{
 "cells": [
  {
   "cell_type": "markdown",
   "metadata": {
    "slideshow": {
     "slide_type": "slide"
    }
   },
   "source": [
    "# Review of Matrices and the Singular Value Decomposition\n",
    "For more info after class on fundamental matrix properties, see the [Matrix Cookbook](http://www.math.uwaterloo.ca/~hwolkowi/matrixcookbook.pdf)"
   ]
  },
  {
   "cell_type": "code",
   "execution_count": null,
   "metadata": {
    "slideshow": {
     "slide_type": "skip"
    }
   },
   "outputs": [],
   "source": [
    "%matplotlib inline\n",
    "import numpy as np\n",
    "import matplotlib\n",
    "import matplotlib.pyplot as plt\n",
    "from mpl_toolkits.mplot3d import Axes3D\n",
    "from ipywidgets import interact\n",
    "import seaborn as sns\n",
    "sns.set(style=\"darkgrid\")\n",
    "sns.set_palette(\"Set1\", 8, .75)\n",
    "sns.set_color_codes()\n",
    "\n",
    "# Below are just to tell NumPy to print things nicely\n",
    "np.set_printoptions(precision=3)\n",
    "np.set_printoptions(suppress=True)\n",
    "np.set_printoptions(threshold=5)"
   ]
  },
  {
   "cell_type": "markdown",
   "metadata": {},
   "source": [
    "Let's generate a simple circle of points, so that we can see what Matrices do to objects:"
   ]
  },
  {
   "cell_type": "code",
   "execution_count": null,
   "metadata": {
    "slideshow": {
     "slide_type": "slide"
    }
   },
   "outputs": [],
   "source": [
    "def circle_points(a=1,b=1):\n",
    "    ''' Generates points on a ellipsoid on axes length a,b'''\n",
    "    t = np.linspace(0,2*np.pi,25)   # Define a line\n",
    "    X = np.matrix([a*np.cos(t),b*np.sin(t)]) # Create circle using polar coords\n",
    "    return X\n",
    "\n",
    "def plot_circle(X,title=None):\n",
    "    fig = plt.figure()\n",
    "    ax = fig.add_subplot(111)\n",
    "    ax.scatter(X[0].flat, X[1].flat,c='g')\n",
    "    if(title):\n",
    "        plt.title(title)\n",
    "    plt.axis('equal')\n",
    "    plt.show()"
   ]
  },
  {
   "cell_type": "code",
   "execution_count": null,
   "metadata": {
    "slideshow": {
     "slide_type": "slide"
    }
   },
   "outputs": [],
   "source": [
    "X = circle_points()\n",
    "print('X:', X.shape)\n",
    "print(X)\n",
    "plot_circle(X,'A Unit Circle')"
   ]
  },
  {
   "cell_type": "code",
   "execution_count": null,
   "metadata": {},
   "outputs": [],
   "source": [
    "M = np.matrix([[2, 0],[0, 1]])\n",
    "print('M'); print(M)"
   ]
  },
  {
   "cell_type": "code",
   "execution_count": null,
   "metadata": {
    "slideshow": {
     "slide_type": "slide"
    }
   },
   "outputs": [],
   "source": [
    "def plot_transformed_circle(X,NewX, title=None):\n",
    "    fig = plt.figure()\n",
    "    ax = fig.add_subplot(111)\n",
    "    plt.scatter(X[0].flat, X[1].flat, c='g')\n",
    "    plt.scatter(NewX[0].flat, NewX[1].flat, c='b')\n",
    "    plt.plot(X[0].flat, X[1].flat, color='g')\n",
    "    plt.plot(NewX[0].flat, NewX[1].flat, color='b')\n",
    "    if(title):\n",
    "        plt.title(title)\n",
    "    plt.axis('equal')\n",
    "    plt.show() \n",
    "    \n",
    "plot_transformed_circle(X,    # First show the original circle\n",
    "                        M*X)  # Then show the transformed circle"
   ]
  },
  {
   "cell_type": "code",
   "execution_count": null,
   "metadata": {
    "slideshow": {
     "slide_type": "slide"
    }
   },
   "outputs": [],
   "source": [
    "M = np.matrix([[2, 0],[0, 2]])\n",
    "print('M'); print(M)\n",
    "plot_transformed_circle(X,M*X)"
   ]
  },
  {
   "cell_type": "code",
   "execution_count": null,
   "metadata": {
    "slideshow": {
     "slide_type": "slide"
    }
   },
   "outputs": [],
   "source": [
    "M = np.matrix([[1,2],[0, 1]])\n",
    "print('M'); print(M)\n",
    "plot_transformed_circle(X,M*X)"
   ]
  },
  {
   "cell_type": "code",
   "execution_count": null,
   "metadata": {
    "slideshow": {
     "slide_type": "slide"
    }
   },
   "outputs": [],
   "source": [
    "np.random.seed(100); np.set_printoptions(precision=1)\n",
    "# Now just create a random 2x2 matrix\n",
    "R = np.matrix(np.random.rand(2,2))\n",
    "print(R)\n",
    "\n",
    "# Then transform points by that matrix\n",
    "NX = R*X\n",
    "plot_transformed_circle(X,NX)"
   ]
  },
  {
   "cell_type": "markdown",
   "metadata": {},
   "source": [
    "You can do this same thing to different dimensions of inputs, such as 1-D (lines):"
   ]
  },
  {
   "cell_type": "code",
   "execution_count": null,
   "metadata": {},
   "outputs": [],
   "source": [
    "X_line = np.linspace(-1,1,10)  # Just create a 1-D set of points\n",
    "print(\"X_line:\\n\",X_line)\n",
    "R[:,0]*X_line   # Convert it into \n",
    "print(\"Transformed:\\n\",R[:,0]*X_line)\n",
    "plot_transformed_circle(np.vstack([X_line,np.zeros_like(X_line)]),\n",
    "                        R[:,0]*X_line)\n"
   ]
  },
  {
   "cell_type": "markdown",
   "metadata": {
    "slideshow": {
     "slide_type": "slide"
    }
   },
   "source": [
    "# [The Singular Value Decomposition](https://en.wikipedia.org/wiki/Singular_value_decomposition)\n",
    "For $N$ data points of $d$ dimensions:\n",
    "$$\n",
    "X_{d\\times N} = U_{d\\times d}  \\Sigma_{d\\times N} V^*_{N\\times N}\n",
    "$$\n",
    "Where $U$, $V$ are [orthogonal](https://en.wikipedia.org/wiki/Orthogonal_matrix) ($UU^T=I$), and $\\Sigma$ is diagonal."
   ]
  },
  {
   "cell_type": "code",
   "execution_count": null,
   "metadata": {},
   "outputs": [],
   "source": [
    "NX"
   ]
  },
  {
   "cell_type": "code",
   "execution_count": null,
   "metadata": {
    "slideshow": {
     "slide_type": "fragment"
    }
   },
   "outputs": [],
   "source": [
    "U,s,V = np.linalg.svd(NX,full_matrices=False) # Why is this useful?\n",
    "S = np.diag(s)\n",
    "print('U:', U.shape)\n",
    "print('S:', S.shape) # Why is this only 2x2, rather than 2x25?\n",
    "print('V:', V.shape) # Why is this only 2x25, rather than 25x25?\n",
    "print('S ='); print(S)\n",
    "print('U*U.T ='); print(U*U.T)"
   ]
  },
  {
   "cell_type": "code",
   "execution_count": null,
   "metadata": {},
   "outputs": [],
   "source": [
    "V"
   ]
  },
  {
   "cell_type": "code",
   "execution_count": null,
   "metadata": {
    "slideshow": {
     "slide_type": "slide"
    }
   },
   "outputs": [],
   "source": [
    "print('S ='); print(S)\n",
    "\n",
    "# Allow me to plot multiple circles on one figure\n",
    "def plot_ax(ax,X,title=None):\n",
    "    ax.scatter(X[0].flat, X[1].flat,c='g')\n",
    "    ax.set_xlim([-1.5, 1.5])\n",
    "    ax.set_ylim([-1.5, 1.5])\n",
    "    if(title):\n",
    "        plt.title(title)   \n",
    "\n",
    "fig = plt.figure()\n",
    "plot_ax(fig.add_subplot(221, aspect='equal'),    NX, 'Original Data')\n",
    "plot_ax(fig.add_subplot(223, aspect='equal'),     V, 'V')\n",
    "plot_ax(fig.add_subplot(224, aspect='equal'),   S*V, 'S*V')\n",
    "plot_ax(fig.add_subplot(222, aspect='equal'), U*S*V, 'U*S*V')\n",
    "plt.show() # Essentially a \"Change of Basis\"\n",
    "# U and V are orthogonal matrices, so they just represent Rotations/Reflections"
   ]
  },
  {
   "cell_type": "code",
   "execution_count": null,
   "metadata": {},
   "outputs": [],
   "source": [
    "Y = circle_points(2,2/5) # Create points on a different ellipse\n",
    "NY = R*Y  # Transform those points with a matrix\n",
    "plot_transformed_circle(Y,NY)"
   ]
  },
  {
   "cell_type": "code",
   "execution_count": null,
   "metadata": {
    "slideshow": {
     "slide_type": "slide"
    }
   },
   "outputs": [],
   "source": [
    "# Do the SVD\n",
    "U,s,V = np.linalg.svd(NY,full_matrices=False)\n",
    "S = np.diag(s); print('S ='); print(S)\n",
    "\n",
    "# Plot the data and the various SVD transformations\n",
    "fig = plt.figure()\n",
    "plot_ax(fig.add_subplot(221, aspect='equal'),    NY, 'Original Data')\n",
    "plot_ax(fig.add_subplot(223, aspect='equal'),     V, 'V')\n",
    "plot_ax(fig.add_subplot(224, aspect='equal'),   S*V, 'S*V')\n",
    "plot_ax(fig.add_subplot(222, aspect='equal'), U*S*V, 'U*S*V')\n",
    "plt.show()"
   ]
  },
  {
   "cell_type": "markdown",
   "metadata": {
    "slideshow": {
     "slide_type": "slide"
    }
   },
   "source": [
    "# What about different dimensions?"
   ]
  },
  {
   "cell_type": "code",
   "execution_count": null,
   "metadata": {
    "slideshow": {
     "slide_type": "fragment"
    }
   },
   "outputs": [],
   "source": [
    "M = np.matrix([[1,0,],[0,1],[2,0.5]])\n",
    "r = np.matrix([[1],[1]])\n",
    "print(f\"M = {M}\")\n",
    "print(f\"r = {r}\")    # What are the dimensions of r?\n",
    "print(f\"M*r = {M*r}\") # What are the dimensions of M*r?"
   ]
  },
  {
   "cell_type": "code",
   "execution_count": null,
   "metadata": {
    "slideshow": {
     "slide_type": "skip"
    }
   },
   "outputs": [],
   "source": [
    "# Let's plot the points in 3D \n",
    "def plot_3D_circle(X, elev=10., azim=50, title=None, c='b'):\n",
    "    \"\"\"\n",
    "    Plots 3D points from a (3, N) matrix X using matplotlib.\n",
    "\n",
    "    Parameters\n",
    "    ----------\n",
    "    X : np.ndarray or np.matrix\n",
    "        3xN array of points to plot.\n",
    "    elev : float, optional\n",
    "        Elevation angle for the 3D plot.\n",
    "    azim : float, optional\n",
    "        Azimuth angle for the 3D plot.\n",
    "    title : str, optional\n",
    "        Title for the plot.\n",
    "    c : str, optional\n",
    "        Color for the points.\n",
    "    \"\"\"\n",
    "    fig = plt.figure()\n",
    "    ax = fig.add_subplot(111, projection='3d')\n",
    "    x = np.array(X[0]).flatten()\n",
    "    y = np.array(X[1]).flatten()\n",
    "    z = np.array(X[2]).flatten()\n",
    "    ax.scatter(x, y, z, c=c)\n",
    "    # Create cubic bounding box to simulate equal aspect ratio\n",
    "    max_range = np.array([x.max()-x.min(), y.max()-y.min(), z.max()-z.min()]).max()\n",
    "    Xb = 0.5*max_range*np.mgrid[-1:2:2,-1:2:2,-1:2:2][0].flatten() + 0.5*(x.max()+x.min())\n",
    "    Yb = 0.5*max_range*np.mgrid[-1:2:2,-1:2:2,-1:2:2][1].flatten() + 0.5*(y.max()+y.min())\n",
    "    Zb = 0.5*max_range*np.mgrid[-1:2:2,-1:2:2,-1:2:2][2].flatten() + 0.5*(z.max()+z.min())\n",
    "    for xb, yb, zb in zip(Xb, Yb, Zb):\n",
    "        ax.plot([xb], [yb], [zb], 'w')\n",
    "    ax.view_init(elev=elev, azim=azim)\n",
    "    if title:\n",
    "        plt.title(title)\n",
    "    plt.show()\n",
    "    \n",
    "def plot_3D_ax(ax, X, elev=10., azim=50, title=None,c='b'):\n",
    "    x = np.array(X[0].flat)\n",
    "    y = np.array(X[1].flat)\n",
    "    z = np.array(X[2].flat)\n",
    "    ax.scatter(x,y,z,c=c)\n",
    "    # Create cubic bounding box to simulate equal aspect ratio\n",
    "    max_range = np.array([x.max()-x.min(), y.max()-y.min(), z.max()-z.min()]).max()\n",
    "    Xb = 0.5*max_range*np.mgrid[-1:2:2,-1:2:2,-1:2:2][0].flatten() + 0.5*(x.max()+x.min())\n",
    "    Yb = 0.5*max_range*np.mgrid[-1:2:2,-1:2:2,-1:2:2][1].flatten() + 0.5*(y.max()+y.min())\n",
    "    Zb = 0.5*max_range*np.mgrid[-1:2:2,-1:2:2,-1:2:2][2].flatten() + 0.5*(z.max()+z.min())\n",
    "    # Comment or uncomment following both lines to test the fake bounding box:\n",
    "    for xb, yb, zb in zip(Xb, Yb, Zb):\n",
    "       ax.plot([xb], [yb], [zb], 'w')"
   ]
  },
  {
   "cell_type": "code",
   "execution_count": null,
   "metadata": {
    "slideshow": {
     "slide_type": "slide"
    }
   },
   "outputs": [],
   "source": [
    "M = np.matrix([[1,0,],[0,1],[2,0.5]])\n",
    "interactive_3D = lambda e,a: plot_3D_circle(M*X,elev=e,azim=a)\n",
    "interact(interactive_3D, e=(0,90,30), a=(0,360,30))"
   ]
  },
  {
   "cell_type": "code",
   "execution_count": null,
   "metadata": {},
   "outputs": [],
   "source": [
    "M*X"
   ]
  },
  {
   "cell_type": "code",
   "execution_count": null,
   "metadata": {},
   "outputs": [],
   "source": [
    "M = np.matrix([[1,2],[-2,2],[2,0.5]])\n",
    "print(M)"
   ]
  },
  {
   "cell_type": "code",
   "execution_count": null,
   "metadata": {
    "slideshow": {
     "slide_type": "slide"
    }
   },
   "outputs": [],
   "source": [
    "interactive_3D = lambda e,a: plot_3D_circle(M*Y,elev=e,azim=a)\n",
    "interact(interactive_3D, e=(0,90,30), a = (0,360,30))"
   ]
  },
  {
   "cell_type": "code",
   "execution_count": null,
   "metadata": {
    "slideshow": {
     "slide_type": "slide"
    }
   },
   "outputs": [],
   "source": [
    "# M*Y is a 3D set of points\n",
    "U,s,V = np.linalg.svd(M*Y,full_matrices=False)\n",
    "S = np.diag(s)\n",
    "print('U:', U.shape)\n",
    "print('S:', S.shape)\n",
    "print('V:', V.shape)\n",
    "print('S =')\n",
    "print(S)"
   ]
  },
  {
   "cell_type": "code",
   "execution_count": null,
   "metadata": {},
   "outputs": [],
   "source": [
    "U*S"
   ]
  },
  {
   "cell_type": "code",
   "execution_count": null,
   "metadata": {},
   "outputs": [],
   "source": [
    "V"
   ]
  },
  {
   "cell_type": "code",
   "execution_count": null,
   "metadata": {},
   "outputs": [],
   "source": [
    "fig = plt.figure()\n",
    "plt.plot(np.diag(S),'o-')\n",
    "plt.title(\"Magnitude of Singular Values\")\n",
    "plt.show()"
   ]
  },
  {
   "cell_type": "code",
   "execution_count": null,
   "metadata": {
    "slideshow": {
     "slide_type": "slide"
    }
   },
   "outputs": [],
   "source": [
    "interactive_3D = lambda e,a: plot_3D_circle(V,elev=e,azim=a)\n",
    "interact(interactive_3D, e=(0,90,30), a = (0,360,30))"
   ]
  },
  {
   "cell_type": "code",
   "execution_count": null,
   "metadata": {
    "slideshow": {
     "slide_type": "slide"
    }
   },
   "outputs": [],
   "source": [
    "interactive_3D = lambda e,a: plot_3D_circle(S*V,elev=e,azim=a)\n",
    "interact(interactive_3D, e=(0,90,30), a = (0,360,30))\n",
    "plt.show()"
   ]
  },
  {
   "cell_type": "code",
   "execution_count": null,
   "metadata": {
    "slideshow": {
     "slide_type": "slide"
    }
   },
   "outputs": [],
   "source": [
    "interactive_3D = lambda e,a: plot_3D_circle(U*S*V,elev=e,azim=a)\n",
    "interact(interactive_3D, e=(0,90,30), a = (0,360,30))"
   ]
  },
  {
   "cell_type": "code",
   "execution_count": null,
   "metadata": {
    "slideshow": {
     "slide_type": "slide"
    }
   },
   "outputs": [],
   "source": [
    "print('S ='); print(S)\n",
    "print('V ='); print(V)\n",
    "print('S*V ='); print(S*V)"
   ]
  },
  {
   "cell_type": "code",
   "execution_count": null,
   "metadata": {
    "slideshow": {
     "slide_type": "slide"
    }
   },
   "outputs": [],
   "source": [
    "# So if V's 3rd row doesn't matter, why don't we just get rid of it?\n",
    "Vt = V[0:2,:]\n",
    "St = S[:,0:2]\n",
    "print('St ='); print(St)\n",
    "print('Vt ='); print(Vt)\n",
    "print('St*Vt ='); print(St*Vt)"
   ]
  },
  {
   "cell_type": "code",
   "execution_count": null,
   "metadata": {
    "slideshow": {
     "slide_type": "fragment"
    }
   },
   "outputs": [],
   "source": [
    "print('U ='); print(U)"
   ]
  },
  {
   "cell_type": "code",
   "execution_count": null,
   "metadata": {
    "slideshow": {
     "slide_type": "slide"
    }
   },
   "outputs": [],
   "source": [
    "# Truncate U. Now we have the \"Truncated SVD\"\n",
    "Ut = U[:,0:2]\n",
    "St = St[0:2,:]\n",
    "print('Ut ='); print(Ut)\n",
    "print('St ='); print(St)\n",
    "print('Vt ='); print(Vt)"
   ]
  },
  {
   "cell_type": "code",
   "execution_count": null,
   "metadata": {
    "slideshow": {
     "slide_type": "slide"
    }
   },
   "outputs": [],
   "source": [
    "print('Ut*St*Vt ='); print(Ut*St*Vt) # Even though we threw away info...\n",
    "print('M*Y = '); print(M*Y)\n",
    "print(\"Are they equal?: \", np.allclose(M*Y,Ut*St*Vt))"
   ]
  },
  {
   "cell_type": "code",
   "execution_count": null,
   "metadata": {
    "slideshow": {
     "slide_type": "slide"
    }
   },
   "outputs": [],
   "source": [
    "print(Vt)\n",
    "plot_circle(Vt) # The actual basis which preserves data variability"
   ]
  },
  {
   "cell_type": "code",
   "execution_count": null,
   "metadata": {
    "slideshow": {
     "slide_type": "slide"
    }
   },
   "outputs": [],
   "source": [
    "# Let's make things more difficult - add some noise:\n",
    "Z = M*X + np.random.normal(0,0.5,size=(M*X).shape)\n",
    "interactive_3D = lambda e,a: plot_3D_circle(Z,elev=e,azim=a)\n",
    "interact(interactive_3D, e=(0,90,30), a = (0,360,30))"
   ]
  },
  {
   "cell_type": "code",
   "execution_count": null,
   "metadata": {
    "slideshow": {
     "slide_type": "slide"
    }
   },
   "outputs": [],
   "source": [
    "Ue,se,Ve = np.linalg.svd(Z,full_matrices=False)\n",
    "Se = np.diag(se)\n",
    "print('S ='); print(Se) # What is different, compared to no-noise?"
   ]
  },
  {
   "cell_type": "code",
   "execution_count": null,
   "metadata": {
    "slideshow": {
     "slide_type": "fragment"
    }
   },
   "outputs": [],
   "source": [
    "# Truncate:\n",
    "Uet = Ue[:,0:2]\n",
    "Set = Se[0:2,0:2]\n",
    "Vet = Ve[0:2,:]\n",
    "print(Z); print(); print(Uet*Set*Vet)"
   ]
  },
  {
   "cell_type": "code",
   "execution_count": null,
   "metadata": {
    "slideshow": {
     "slide_type": "fragment"
    }
   },
   "outputs": [],
   "source": [
    "print(\"Are they equal?: \", np.allclose(Z,Uet*Set*Vet)) # We lost info"
   ]
  },
  {
   "cell_type": "code",
   "execution_count": null,
   "metadata": {
    "slideshow": {
     "slide_type": "skip"
    }
   },
   "outputs": [],
   "source": [
    "x = np.arange(-.2,.3,.05)\n",
    "y = np.arange(-.6,.6,.1)\n",
    "vep = np.matrix(np.transpose([np.tile(x, len(y)), np.repeat(y, len(x))]))\n",
    "Zt = Uet*Set*vep.T\n",
    "#Zt = Uet*Set*Vet\n",
    "def compare_3D(Z, Zt, elev=10., azim=50):\n",
    "    \"\"\"\n",
    "    Plots two sets of 3D points for visual comparison.\n",
    "\n",
    "    Parameters\n",
    "    ----------\n",
    "    Z : np.ndarray or np.matrix\n",
    "        Original 3D data (shape: 3 x N).\n",
    "    Zt : np.ndarray or np.matrix\n",
    "        Transformed 3D data (shape: 3 x N).\n",
    "    elev : float, optional\n",
    "        Elevation angle for the 3D plot.\n",
    "    azim : float, optional\n",
    "        Azimuth angle for the 3D plot.\n",
    "    \"\"\"\n",
    "    fig = plt.figure()\n",
    "    ax = fig.add_subplot(111, projection='3d')\n",
    "    # Ensure shapes are (3, N)\n",
    "    Z = np.asarray(Z)\n",
    "    Zt = np.asarray(Zt)\n",
    "    # If Zt is 2D, pad with zeros for 3D visualization\n",
    "    if Zt.shape[0] == 2:\n",
    "        Zt = np.vstack([Zt, np.zeros(Zt.shape[1])])\n",
    "    ax.scatter(Z[0], Z[1], Z[2], c='b', label='Original')\n",
    "    ax.scatter(Zt[0], Zt[1], Zt[2], c='g', label='Transformed')\n",
    "    ax.view_init(elev=elev, azim=azim)\n",
    "    ax.set_xlabel('X')\n",
    "    ax.set_ylabel('Y')\n",
    "    ax.set_zlabel('Z')\n",
    "    ax.legend()\n",
    "    plt.tight_layout()\n",
    "    plt.show()"
   ]
  },
  {
   "cell_type": "code",
   "execution_count": null,
   "metadata": {
    "slideshow": {
     "slide_type": "slide"
    }
   },
   "outputs": [],
   "source": [
    "interactive_3D = lambda e,a: compare_3D(Z,Zt,elev=e,azim=a)\n",
    "interact(interactive_3D, e=(0,90,30), a = (0,360,30))"
   ]
  },
  {
   "cell_type": "markdown",
   "metadata": {
    "slideshow": {
     "slide_type": "slide"
    }
   },
   "source": [
    "The idea of uncovering structure, or reducing data-dimensions is one key goal of Unsupervised Learning. In particular, the SVD (among other methods) can be used for [Principal Component Analysis](https://en.wikipedia.org/wiki/Principal_component_analysis): reducing the number of dimensions of a data-set, by finding a linear transformation to a smaller orthogonal basis which minimizes reconstruction error to the original space."
   ]
  },
  {
   "cell_type": "code",
   "execution_count": null,
   "metadata": {
    "slideshow": {
     "slide_type": "slide"
    }
   },
   "outputs": [],
   "source": [
    "from sklearn.decomposition import PCA\n",
    "pcaY = PCA(n_components=2).fit_transform(np.asarray(Z).T)\n",
    "pcaY = np.array([[-.1,0],[0,-.1]])@pcaY.T # Some scaling/flipping\n",
    "fig = plt.figure()\n",
    "plot_ax(fig.add_subplot(121, aspect='equal'), 4*pcaY, 'PCA')\n",
    "plot_ax(fig.add_subplot(122, aspect='equal'),  4*Vet, 'SVD')\n",
    "plt.show()\n",
    "# Note: result is (essentially) identical to PCA (up to scale/flipped axes)"
   ]
  },
  {
   "cell_type": "code",
   "execution_count": null,
   "metadata": {},
   "outputs": [],
   "source": []
  }
 ],
 "metadata": {
  "kernelspec": {
   "display_name": ".conda",
   "language": "python",
   "name": "python3"
  },
  "language_info": {
   "codemirror_mode": {
    "name": "ipython",
    "version": 3
   },
   "file_extension": ".py",
   "mimetype": "text/x-python",
   "name": "python",
   "nbconvert_exporter": "python",
   "pygments_lexer": "ipython3",
   "version": "3.12.11"
  },
  "varInspector": {
   "cols": {
    "lenName": 16,
    "lenType": 16,
    "lenVar": 40
   },
   "kernels_config": {
    "python": {
     "delete_cmd_postfix": "",
     "delete_cmd_prefix": "del ",
     "library": "var_list.py",
     "varRefreshCmd": "print(var_dic_list())"
    },
    "r": {
     "delete_cmd_postfix": ") ",
     "delete_cmd_prefix": "rm(",
     "library": "var_list.r",
     "varRefreshCmd": "cat(var_dic_list()) "
    }
   },
   "types_to_exclude": [
    "module",
    "function",
    "builtin_function_or_method",
    "instance",
    "_Feature"
   ],
   "window_display": false
  }
 },
 "nbformat": 4,
 "nbformat_minor": 1
}
