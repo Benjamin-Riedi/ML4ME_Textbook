{
 "cells": [
  {
   "cell_type": "markdown",
   "metadata": {},
   "source": [
    "## PyTorch Autograd Example with Optimization\n",
    "\n",
    "This example shows how to use AD and PyTorch to perform gradient based optimization on a simple test function"
   ]
  },
  {
   "cell_type": "code",
   "execution_count": null,
   "metadata": {},
   "outputs": [],
   "source": [
    "import numpy as np\n",
    "import matplotlib.pyplot as plt\n",
    "import torch"
   ]
  },
  {
   "cell_type": "code",
   "execution_count": null,
   "metadata": {},
   "outputs": [],
   "source": [
    "# Example of the McCormick Function\n",
    "f = lambda x: torch.sin(x[0]+x[1]) + (x[0]-x[1])**2 - 1.5*x[0]+2.5*x[1]+1\n",
    "\n",
    "x = torch.tensor([-4.0, 4.0], requires_grad=True)\n",
    "y = f(x)"
   ]
  },
  {
   "cell_type": "markdown",
   "metadata": {},
   "source": [
    "What does this function look like?"
   ]
  },
  {
   "cell_type": "code",
   "execution_count": null,
   "metadata": {},
   "outputs": [],
   "source": [
    "X_plot = torch.meshgrid(torch.linspace(-5,4,100),torch.linspace(-5,4,100))\n",
    "x_plot,y_plot = X_plot\n",
    "plt.figure()\n",
    "plt.contour(x_plot,y_plot,f(X_plot))\n",
    "plt.show()"
   ]
  },
  {
   "cell_type": "code",
   "execution_count": null,
   "metadata": {},
   "outputs": [],
   "source": [
    "fig = plt.figure()\n",
    "ax = plt.axes(projection='3d')\n",
    "ax.contour3D(x_plot, y_plot, f(X_plot), 50, cmap='binary_r')\n",
    "ax.view_init(40, 90)\n",
    "plt.show()"
   ]
  },
  {
   "cell_type": "markdown",
   "metadata": {},
   "source": [
    "Now let's say I want to optimize this. I could compute the analytical derivative. Or, I could compute the backward-mode AD on the inputs:"
   ]
  },
  {
   "cell_type": "code",
   "execution_count": null,
   "metadata": {},
   "outputs": [],
   "source": [
    "# Pick a starting point:\n",
    "x = torch.tensor([-4.0, 4.0], requires_grad=True)\n",
    "# Evaluate y\n",
    "y = f(x)\n",
    "# Now call the backward AD pass so that we can compute gradients\n",
    "y.backward()\n",
    "# Now we can get the gradient\n",
    "x.grad"
   ]
  },
  {
   "cell_type": "markdown",
   "metadata": {},
   "source": [
    "Now we just stick it in a loop and run SGD on it:"
   ]
  },
  {
   "cell_type": "code",
   "execution_count": null,
   "metadata": {},
   "outputs": [],
   "source": [
    "# Take an initial guess at the optimum:\n",
    "x = torch.tensor([-4.0, 4.0], requires_grad=True)\n",
    "# Note that the true answer should be x_opt = [5, 5]\n",
    "# Initialize the optimizer\n",
    "optimizer = torch.optim.AdamW([x], lr=1)\n",
    "num_steps = 50\n",
    "steps = [np.array(x.detach().numpy())]\n",
    "# Take 10 steps\n",
    "for i in range(num_steps):\n",
    "    optimizer.zero_grad()\n",
    "    y = f(x)\n",
    "    y.backward()\n",
    "    optimizer.step()\n",
    "    with torch.no_grad():\n",
    "        steps.append(np.array(x.detach().numpy()))\n",
    "        print(x)\n",
    "steps = np.array(steps)"
   ]
  },
  {
   "cell_type": "code",
   "execution_count": null,
   "metadata": {},
   "outputs": [],
   "source": [
    "plt.figure()\n",
    "plt.contour(x_plot,y_plot,f(X_plot))\n",
    "plt.plot(steps[:,0],steps[:,1],marker='+',label = \"Adam\")\n",
    "plt.legend()\n",
    "plt.title(\"Adam optimizer\")\n",
    "plt.show()"
   ]
  },
  {
   "cell_type": "code",
   "execution_count": null,
   "metadata": {},
   "outputs": [],
   "source": [
    "# Take an initial guess at the optimum:\n",
    "x = torch.tensor([-4.0, 4.0], requires_grad=True)\n",
    "# Note that the true answer should be x_opt = [5, 5]\n",
    "# Initialize the optimizer\n",
    "# Here using LBFGS, which is much faster convergence on small problems\n",
    "optimizer = torch.optim.LBFGS([x],lr=0.05)\n",
    "num_steps = 5\n",
    "steps = [np.array(x.detach().numpy())]\n",
    "# Take 10 steps\n",
    "for i in range(num_steps):\n",
    "    def closure():\n",
    "        optimizer.zero_grad()\n",
    "        y = f(x)\n",
    "        y.backward()\n",
    "        return y\n",
    "    optimizer.step(closure)\n",
    "    with torch.no_grad():\n",
    "            steps.append(np.array(x.detach().numpy()))\n",
    "            print(x)\n",
    "steps = np.array(steps)"
   ]
  },
  {
   "cell_type": "code",
   "execution_count": null,
   "metadata": {},
   "outputs": [],
   "source": [
    "plt.figure()\n",
    "plt.contour(x_plot,y_plot,f(X_plot))\n",
    "plt.scatter([-0.54719],[-1.54719],marker='*',label=\"Optima\")\n",
    "plt.plot(steps[:,0],steps[:,1],marker='+',label = \"LFBGS\")\n",
    "plt.legend()\n",
    "plt.title(\"LFBGS optimizer\")\n",
    "plt.show()"
   ]
  }
 ],
 "metadata": {
  "kernelspec": {
   "display_name": "ml4me-student",
   "language": "python",
   "name": "python3"
  },
  "language_info": {
   "codemirror_mode": {
    "name": "ipython",
    "version": 3
   },
   "file_extension": ".py",
   "mimetype": "text/x-python",
   "name": "python",
   "nbconvert_exporter": "python",
   "pygments_lexer": "ipython3",
   "version": "3.11.8"
  },
  "varInspector": {
   "cols": {
    "lenName": 16,
    "lenType": 16,
    "lenVar": 40
   },
   "kernels_config": {
    "python": {
     "delete_cmd_postfix": "",
     "delete_cmd_prefix": "del ",
     "library": "var_list.py",
     "varRefreshCmd": "print(var_dic_list())"
    },
    "r": {
     "delete_cmd_postfix": ") ",
     "delete_cmd_prefix": "rm(",
     "library": "var_list.r",
     "varRefreshCmd": "cat(var_dic_list()) "
    }
   },
   "types_to_exclude": [
    "module",
    "function",
    "builtin_function_or_method",
    "instance",
    "_Feature"
   ],
   "window_display": false
  }
 },
 "nbformat": 4,
 "nbformat_minor": 4
}
