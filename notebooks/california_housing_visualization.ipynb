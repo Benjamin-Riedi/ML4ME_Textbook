{
 "cells": [
  {
   "cell_type": "markdown",
   "metadata": {},
   "source": [
    "Housing Price Data Visualization In-Class Exercise\n",
    "------"
   ]
  },
  {
   "cell_type": "markdown",
   "metadata": {},
   "source": [
    "In this review notebook, we will review the basics of data visualization and the importance of this for being able to build performant ML models. It is also a good starting point for people to get used to Python and the use of Jupyter Notebooks. It is designed as an in-class (or on your own) exercise to get your feet wet in working with data. Specifically, in this notebook we will:\n",
    "\n",
    "1. Load the California Housing dataset\n",
    "2. Build some basic visualizations of the dataset\n",
    "3. Interpret the visualizations and discuss what they mean for building ML models"
   ]
  },
  {
   "cell_type": "markdown",
   "metadata": {},
   "source": [
    "The below code is a useful starting point that should get you started with exploring the California Housing data."
   ]
  },
  {
   "cell_type": "code",
   "execution_count": null,
   "metadata": {},
   "outputs": [],
   "source": [
    "import numpy as np\n",
    "import matplotlib.pyplot as plt\n",
    "from sklearn.datasets import fetch_california_housing\n",
    "cal_housing = fetch_california_housing(data_home='.')"
   ]
  },
  {
   "cell_type": "code",
   "execution_count": null,
   "metadata": {},
   "outputs": [],
   "source": [
    "print(cal_housing.DESCR)"
   ]
  },
  {
   "cell_type": "code",
   "execution_count": null,
   "metadata": {},
   "outputs": [],
   "source": [
    "cal_housing.target"
   ]
  },
  {
   "cell_type": "code",
   "execution_count": null,
   "metadata": {},
   "outputs": [],
   "source": [
    "X = cal_housing.data\n",
    "avg_price = cal_housing.target\n",
    "feature_names = cal_housing.feature_names\n",
    "feature_names"
   ]
  },
  {
   "cell_type": "code",
   "execution_count": null,
   "metadata": {},
   "outputs": [],
   "source": [
    "X[:,0]"
   ]
  },
  {
   "cell_type": "code",
   "execution_count": null,
   "metadata": {},
   "outputs": [],
   "source": [
    "cal_housing.target"
   ]
  },
  {
   "cell_type": "code",
   "execution_count": null,
   "metadata": {},
   "outputs": [],
   "source": [
    "plt.scatter(X[:,0],cal_housing.target, alpha=0.1)\n",
    "plt.xlabel(\"Median Income\")\n",
    "plt.ylabel(\"House Price\")"
   ]
  },
  {
   "cell_type": "markdown",
   "metadata": {},
   "source": [
    "Some people might find it useful to use a [Pandas](http://synesthesiam.com/posts/an-introduction-to-pandas.html) [dataframe](http://www.gregreda.com/2013/10/26/intro-to-pandas-data-structures/) to [manipulate the data](http://www.gregreda.com/2013/10/26/working-with-pandas-dataframes/), but that is not really required for basic plotting and visualization: "
   ]
  },
  {
   "cell_type": "code",
   "execution_count": null,
   "metadata": {},
   "outputs": [],
   "source": [
    "import pandas as pd\n",
    "df=pd.DataFrame(np.hstack([X,avg_price[:,np.newaxis]]),columns=np.hstack([feature_names,'price']))\n",
    "#Example of the first few rows of data (using the \"head\" command)\n",
    "df"
   ]
  },
  {
   "cell_type": "code",
   "execution_count": null,
   "metadata": {},
   "outputs": [],
   "source": [
    "# Below is how you might select only some columns from a dataframe.\n",
    "# This is just an illustrative example; you could select other columns\n",
    "subdf = df[['MedInc','HouseAge','AveRooms','AveBedrms','Population','AveOccup','price']]\n",
    "subdf.head()"
   ]
  },
  {
   "cell_type": "markdown",
   "metadata": {},
   "source": [
    "For the below tasks, you might want to try out some basic Python plotting libraries. I recommend:\n",
    "\n",
    "* [Matplotlib](http://matplotlib.org/): Fairly basic building block, but gets the job done, and widely used. This is the most complicated option, but gives you the most control.\n",
    "* [Bokeh](http://bokeh.pydata.org/en/latest/): Fancier interactive graphs with scrolling. Fairly easy to use.\n",
    "* [Seaborn](https://stanford.edu/~mwaskom/software/seaborn/): Probably the easiest to use to produce basic, common graphs and statistics.\n",
    "\n",
    "If you aren't familiar with any of the above libraries, I would suggest starting with Seaborn, since it hides many of the complex features you might not need right away (check out their [tutorial](https://stanford.edu/~mwaskom/software/seaborn/tutorial/distributions.html)). Bokeh also has a nice [Quick Start guide](http://bokeh.pydata.org/en/latest/docs/user_guide/quickstart.html#userguide-quickstart) if you like having the ability to pan/zoom the data."
   ]
  },
  {
   "cell_type": "code",
   "execution_count": null,
   "metadata": {},
   "outputs": [],
   "source": [
    "# Matplotlib plotting example\n",
    "# Below line tells the notebook to plots the images here\n",
    "# in the notebook, rather than separately as image files.\n",
    "%matplotlib inline \n",
    "import matplotlib.pyplot as plt\n",
    "plt.hist(df['MedInc'])"
   ]
  },
  {
   "cell_type": "code",
   "execution_count": null,
   "metadata": {},
   "outputs": [],
   "source": [
    "# Pandas Example- Uncomment below and run if you want\n",
    "# Note, this is essentially just a shortcut to matplotlib\n",
    "#df['MedInc'].hist()\n",
    "# or\n",
    "#df.plot(kind='scatter', x='MedInc', y='price')"
   ]
  },
  {
   "cell_type": "code",
   "execution_count": null,
   "metadata": {},
   "outputs": [],
   "source": [
    "# Seaborn Example - Uncomment below and run if you want\n",
    "import seaborn as sns  \n",
    "# Note, just importing seaborn changes the matplotlib default behavior\n",
    "plt.figure()\n",
    "sns.displot(df['MedInc'])\n",
    "plt.show()"
   ]
  },
  {
   "cell_type": "markdown",
   "metadata": {},
   "source": [
    "## Exercise 1: Visualize the relationship between features and price\n",
    "Visualize the 2D relationship between housing prices and the provided features of the data. You can choose how you want to do this. \n",
    "\n",
    "[Enter your code into the empty cell below to create the necessary visualizations. You can create multiple cells for code or Markdown code if that helps you.]\n"
   ]
  },
  {
   "cell_type": "code",
   "execution_count": null,
   "metadata": {},
   "outputs": [],
   "source": [
    "features = ['MedInc','HouseAge','AveRooms','AveBedrms','Population','AveOccup']\n",
    "for i,feature in enumerate(features):\n",
    "    plt.figure()\n",
    "    sns.jointplot(x=df[feature],y=df['price'],alpha=0.1)\n",
    "    plt.show()"
   ]
  },
  {
   "cell_type": "markdown",
   "metadata": {},
   "source": [
    "**Question**: Do any of the features appear linearly correlated with price?"
   ]
  },
  {
   "cell_type": "markdown",
   "metadata": {},
   "source": [
    "## Exercise 2: Visualize the relationships between features\n",
    "Visualize the 1D and 2D relationships between the features in the dataset. For example, how are house ages distributed? What is the relationship between house age and the number of bedrooms? Feel free to explore different 1D and 2D options."
   ]
  },
  {
   "cell_type": "code",
   "execution_count": null,
   "metadata": {},
   "outputs": [],
   "source": [
    "\n",
    "for feature in features:\n",
    "    plt.figure()\n",
    "    sns.displot(df[feature])\n",
    "    plt.show()"
   ]
  },
  {
   "cell_type": "code",
   "execution_count": null,
   "metadata": {},
   "outputs": [],
   "source": [
    "# Plot the pairwise distributions between each of the features:\n",
    "for i,feature in enumerate(features):\n",
    "    for j,feature2 in enumerate(features):\n",
    "        if j>i:\n",
    "            plt.figure()\n",
    "            sns.jointplot(x=df[feature],y=df[feature2],alpha=1.0)\n",
    "            plt.show()"
   ]
  },
  {
   "cell_type": "markdown",
   "metadata": {},
   "source": [
    "**Question**: Are there any anomalies that look strange in the data, and which visualization helped you identify them (hint: there should be several)?"
   ]
  },
  {
   "cell_type": "markdown",
   "metadata": {},
   "source": [
    "## Exercise 3: Visualize relationships with the Anomalies Removed\n",
    "Using your knowledge of the anomalies you found above, remove those anomalies using appropriate code below (either by removing the entire data record, or just the specific values that were anomalous, if you prefer to be more surgical) and replot the Task 1 and Task 2 plots you produced above."
   ]
  },
  {
   "cell_type": "code",
   "execution_count": null,
   "metadata": {},
   "outputs": [],
   "source": [
    "# Code goes here for dealing with outliers\n",
    "# You can copy/paste some of your plotting code from above, if that is helpful."
   ]
  },
  {
   "cell_type": "markdown",
   "metadata": {},
   "source": [
    "**Question**: Does this change your answer to the original Task 1 or Task 2 questions?"
   ]
  }
 ],
 "metadata": {
  "kernelspec": {
   "display_name": ".conda",
   "language": "python",
   "name": "python3"
  },
  "language_info": {
   "codemirror_mode": {
    "name": "ipython",
    "version": 3
   },
   "file_extension": ".py",
   "mimetype": "text/x-python",
   "name": "python",
   "nbconvert_exporter": "python",
   "pygments_lexer": "ipython3",
   "version": "3.12.11"
  }
 },
 "nbformat": 4,
 "nbformat_minor": 1
}
