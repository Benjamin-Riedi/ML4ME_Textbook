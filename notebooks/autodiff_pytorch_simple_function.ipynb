{
 "cells": [
  {
   "cell_type": "markdown",
   "metadata": {},
   "source": [
    "## PyTorch Autograd Example with Simple Function\n",
    "Ok let's use automatic differentiation to compute a simple derivative of our earlier analytical function:\n",
    "\n",
    "$$y = f(x_0,x_1) = ln(x_0) + x_0 \\cdot x_1 - sin(x_1)$$\n",
    "\n",
    "And as with before, we'll evaluate the derivative of this function at $$x_0 = 2, x_1=5$$\n",
    "\n",
    "We can analytically compute the derivative and code it up so that we can verify accuracy later:"
   ]
  },
  {
   "cell_type": "code",
   "execution_count": null,
   "metadata": {},
   "outputs": [],
   "source": [
    "#| code-fold: false\n",
    "import numpy as np\n",
    "def true_grad(x0,x1):\n",
    "    return np.array([\n",
    "        1/x0 + x1,\n",
    "        x0 - np.cos(x1)\n",
    "    ])\n",
    "true_grad(2,5)"
   ]
  },
  {
   "cell_type": "markdown",
   "metadata": {},
   "source": [
    "But now let's see how to use [PyTorch](https://pytorch.org/ ) to get this using Automatic Differentiation:"
   ]
  },
  {
   "cell_type": "markdown",
   "metadata": {},
   "source": [
    "### Automatic Differentiation using PyTorch"
   ]
  },
  {
   "cell_type": "code",
   "execution_count": null,
   "metadata": {},
   "outputs": [],
   "source": [
    "import torch\n",
    "x = torch.tensor([2.0, 5.0], requires_grad=True)\n",
    "print(x)"
   ]
  },
  {
   "cell_type": "code",
   "execution_count": null,
   "metadata": {},
   "outputs": [],
   "source": [
    "def f(x):\n",
    "    return torch.log(x[0]) + x[0]*x[1] - torch.sin(x[1])\n",
    "y = f(x)\n",
    "print(y)"
   ]
  },
  {
   "cell_type": "code",
   "execution_count": null,
   "metadata": {},
   "outputs": [],
   "source": [
    "# Now call the backward AD pass so that we can compute gradients\n",
    "y.backward()\n",
    "# Now we can ask for the gradient:\n",
    "x.grad"
   ]
  },
  {
   "cell_type": "markdown",
   "metadata": {},
   "source": [
    "Let's see how well it approximated the true gradient:"
   ]
  },
  {
   "cell_type": "code",
   "execution_count": null,
   "metadata": {},
   "outputs": [],
   "source": [
    "true_grad(2,5) - x.grad.numpy()"
   ]
  },
  {
   "cell_type": "markdown",
   "metadata": {},
   "source": [
    "### Finite Differences using SciPy\n",
    "\n",
    "Now let's compare this to computing the same gradient, but using Numerical Differentiation (specifically, Central Finite Differences):"
   ]
  },
  {
   "cell_type": "code",
   "execution_count": null,
   "metadata": {},
   "outputs": [],
   "source": [
    "from scipy import optimize\n",
    "x_np = np.array([2.0, 5.0])\n",
    "def f_np(x):\n",
    "    return np.log(x[0]) + x[0]*x[1] - np.sin(x[1])\n",
    "#y_np = f_np(x_np)\n",
    "# This computes finite differences opf f_np at x_np:\n",
    "optimize.approx_fprime(x_np, f_np, epsilon=1e-4)"
   ]
  },
  {
   "cell_type": "markdown",
   "metadata": {},
   "source": [
    "Let's see how well it approximated the true gradient:"
   ]
  },
  {
   "cell_type": "code",
   "execution_count": null,
   "metadata": {},
   "outputs": [],
   "source": [
    "true_grad(2,5) - optimize.approx_fprime(x_np, f_np, epsilon=1e-4)"
   ]
  },
  {
   "cell_type": "code",
   "execution_count": null,
   "metadata": {},
   "outputs": [],
   "source": [
    "def numerical_error(e):\n",
    "    return true_grad(2,5) - optimize.approx_fprime(x_np, f_np, epsilon=e)\n",
    "#error = lambda e: true_grad(2,5) - optimize.approx_fprime(x_np, y_np, epsilon=e)\n",
    "epsilons = np.logspace(-13,1,num=21)\n",
    "errors = [np.linalg.norm(numerical_error(e)) for e in epsilons]"
   ]
  },
  {
   "cell_type": "code",
   "execution_count": null,
   "metadata": {},
   "outputs": [],
   "source": [
    "import matplotlib.pyplot as plt\n",
    "plt.loglog(epsilons,errors,marker='o')\n",
    "plt.xlabel('$\\epsilon$')\n",
    "plt.ylabel('Error')\n",
    "plt.title('Finite Difference Approximation')"
   ]
  }
 ],
 "metadata": {
  "kernelspec": {
   "display_name": "ml4me-student",
   "language": "python",
   "name": "python3"
  },
  "language_info": {
   "codemirror_mode": {
    "name": "ipython",
    "version": 3
   },
   "file_extension": ".py",
   "mimetype": "text/x-python",
   "name": "python",
   "nbconvert_exporter": "python",
   "pygments_lexer": "ipython3",
   "version": "3.11.8"
  },
  "varInspector": {
   "cols": {
    "lenName": 16,
    "lenType": 16,
    "lenVar": 40
   },
   "kernels_config": {
    "python": {
     "delete_cmd_postfix": "",
     "delete_cmd_prefix": "del ",
     "library": "var_list.py",
     "varRefreshCmd": "print(var_dic_list())"
    },
    "r": {
     "delete_cmd_postfix": ") ",
     "delete_cmd_prefix": "rm(",
     "library": "var_list.r",
     "varRefreshCmd": "cat(var_dic_list()) "
    }
   },
   "types_to_exclude": [
    "module",
    "function",
    "builtin_function_or_method",
    "instance",
    "_Feature"
   ],
   "window_display": false
  }
 },
 "nbformat": 4,
 "nbformat_minor": 2
}
