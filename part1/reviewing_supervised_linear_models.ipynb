{
 "cells": [
  {
   "cell_type": "raw",
   "metadata": {
    "vscode": {
     "languageId": "raw"
    }
   },
   "source": [
    "---\n",
    "title: Reviewing Supervised Linear Models\n",
    "author: Mark Fuge\n",
    "date: 'September 23 2025'\n",
    "format:\n",
    "    html:\n",
    "        code-fold: true\n",
    "---"
   ]
  },
  {
   "cell_type": "markdown",
   "metadata": {},
   "source": [
    "We will start by reviewing Linear Models, since they are likely already familiar to you from prior coursework, are widely used, and will serve as a useful (if simple) launching off point for later discussions of more advanced techniques. So, while some of what we will explore in this section might seem pretty basic at first glance, do not let it's simplicity fool you, as we will revisit similar concepts throughout the rest of the notes, as these concepts will help you form a strong foundation that will serve us well once things get more complex.\n",
    "\n",
    "This chapter will do this in three parts:\n",
    "\n",
    "1. Review the basic setup of a linear model, including notation and how adding features to the linear model can make it behave in ways that would appear \"non-linear\".\n",
    "2. Review the concept of Regularization --- which will essentially penalize model complexity to avoid overfitting.\n",
    "3. Discuss different types of commonly used loss functions for linear models, demonstrating their differences and possible use cases.\n",
    "\n",
    "With this as a baseline model, the next chapter will review the concept of Cross-Validation and how we evaluate whether an Machine Learning model is \"good\", and then the subsequent chapter will review (Stochastic) Gradient Descent, in the Linear Model context."
   ]
  },
  {
   "cell_type": "markdown",
   "metadata": {},
   "source": [
    "## What is a Linear Model?\n",
    "\n",
    "Let's start by trying to fit a model to the (admittedly simple) dataset below, where I have just sampled some (noisy) points from a periodic function:"
   ]
  },
  {
   "cell_type": "code",
   "execution_count": null,
   "metadata": {},
   "outputs": [],
   "source": [
    "%matplotlib inline\n",
    "import numpy as np\n",
    "import matplotlib.pyplot as plt\n",
    "from sklearn.preprocessing import PolynomialFeatures\n",
    "from sklearn.linear_model import SGDRegressor\n",
    "from sklearn.linear_model import SGDClassifier\n",
    "from ipywidgets import interact,interact_manual, FloatSlider\n",
    "from sklearn.datasets import make_regression\n",
    "import seaborn as sns\n",
    "sns.set_context('poster')\n",
    "np.random.seed(1)\n",
    "\n",
    "# Number of data points\n",
    "n_samples = 30\n",
    "\n",
    "# True Function we want to estimate\n",
    "true_fun = lambda X: np.cos(1.5 * np.pi * X)\n",
    "\n",
    "# Noisy Samples from the true function\n",
    "X = np.sort(np.random.rand(n_samples))\n",
    "y = true_fun(X) + np.random.randn(n_samples) * 0.1\n",
    "\n",
    "plt.figure(figsize=(10,10))\n",
    "# Plot the true function:\n",
    "X_plot = np.linspace(0, 1, 100)\n",
    "plt.plot(X_plot, true_fun(X_plot), '--',label=\"True function\")\n",
    "# Plot the data samples\n",
    "plt.scatter(X,y, label=\"Samples\")\n",
    "plt.legend(loc=\"best\")\n",
    "plt.show()"
   ]
  },
  {
   "cell_type": "markdown",
   "metadata": {},
   "source": [
    "If we wanted to fit a line to this data, we would use what is called a linear model:\n",
    "\n",
    "$$\n",
    "y = w_0+w_1\\cdot x\n",
    "$$\n",
    "\n",
    "where $w_0$ is the intercept and $w_1$ is the slope of the line. We can write this more compactly using vector notation as:\n",
    "$$\n",
    "y = \\mathbf{w}^T \\mathbf{x}\n",
    "$$\n",
    "where w is the weight vector [$w_0$, $w_1$] and $x$ is the feature vector [1, x]. We can see here that taking the dot product between $w$ and $x$ is equivalent to the equation above. Importantly, even though the above equation represents a straight line with respect to x, we are not limited to using linear models only for this. For example, we could make:\n",
    "\n",
    "$$\n",
    "\\mathbf{w} = [w_0, w_1, w_2, w_3];\\quad \\mathbf{x} = [1, x, x^2, x^3]\n",
    "$$\n",
    "\n",
    "and in this way, we can model y as a cubic function of x, while $y = \\mathbf{w}^T \\mathbf{x}$ remains a \"linear model\", since it is still linear with respect to the weights $w$. This is quite powerful, since by adding features (i.e., additional concatentated entries) to $\\mathbf{x}$, we can fit functions that are apparently non-linear with respect to the original input variable $x$, but will possess many useful properties of linear models that we will discuss later (e.g., convexity with respect to $w$)."
   ]
  },
  {
   "cell_type": "raw",
   "metadata": {
    "vscode": {
     "languageId": "raw"
    }
   },
   "source": [
    "::: {.callout-tip appearance=\"default\"}\n",
    "### Experiment: Effect of Polynomial Degree on Model Fit\n",
    "We can see this in the below experiment, where we fit progressively higher order polynomial functions to the above training data. In each case we are fitting a linear model, by virtue of appending additional polynomial features to x. When you do this experiment, ask yourself:\n",
    "\n",
    "- How does the model fit change as we increase the polynomial degree?\n",
    "- What happens to the training score ($R^2$) as we increase the polynomial degree?\n",
    "- Does this increase in the training score reflect what you intuitively expect? Why or why not?\n",
    ":::"
   ]
  },
  {
   "cell_type": "code",
   "execution_count": null,
   "metadata": {},
   "outputs": [],
   "source": [
    "#| echo: false\n",
    "#| output: false\n",
    "# This code cell just shows how to pull out the values of X\n",
    "# Just for the purposes of display, set the print precision to 2 decimals\n",
    "%precision 2\n",
    "X[:, np.newaxis]"
   ]
  },
  {
   "cell_type": "code",
   "execution_count": null,
   "metadata": {},
   "outputs": [],
   "source": [
    "#| echo: false\n",
    "#| output: false\n",
    "# This code cell just shows how we can augment X with additional Polynomial features\n",
    "# Let's build some Polynomial features:\n",
    "d=3\n",
    "pfeatures = PolynomialFeatures(degree=d,include_bias=False)\n",
    "pfeatures.fit_transform(X[:, np.newaxis])"
   ]
  },
  {
   "cell_type": "code",
   "execution_count": null,
   "metadata": {},
   "outputs": [],
   "source": [
    "from sklearn.pipeline import Pipeline\n",
    "from sklearn.linear_model import LinearRegression\n",
    "\n",
    "# Here is a list of different degree polynomials to try out\n",
    "degrees = [1,2,3,5,10,15,20,30]\n",
    "\n",
    "# Generate samples of the true function + noise\n",
    "X = np.sort(np.random.rand(n_samples))\n",
    "noise_amount = 0.1\n",
    "y = true_fun(X) + np.random.randn(n_samples) * noise_amount\n",
    "\n",
    "# For each of the different polynomial degrees we listed above\n",
    "for d in degrees:\n",
    "    plt.figure(figsize=(7, 7)) # Make a new figure\n",
    "    # Construct the polynomial features\n",
    "    polynomial_features = PolynomialFeatures(degree=d,\n",
    "                                             include_bias=False)\n",
    "    # Construct linear regression model\n",
    "    linear_regression = LinearRegression()\n",
    "    pipeline = Pipeline([(\"polynomial_features\", polynomial_features),\n",
    "                         (\"linear_regression\", linear_regression)])\n",
    "    # Now fit the data first through the \n",
    "    # polynomial basis, then do regression\n",
    "    pipeline.fit(X[:, np.newaxis], y)\n",
    "    \n",
    "    # Get the accuracy score of the trained model\n",
    "    # on the original training data\n",
    "    score = pipeline.score(X[:, np.newaxis],y)\n",
    "\n",
    "    # Plot the results\n",
    "    X_plot = np.linspace(0, 1, 100)\n",
    "    plt.plot(X_plot, pipeline.predict(X_plot[:, np.newaxis]), label=\"Model\")\n",
    "    plt.plot(X_plot, true_fun(X_plot), '--',label=\"True function\")\n",
    "    plt.scatter(X, y, label=\"Samples\")\n",
    "    plt.xlabel(\"x\")\n",
    "    plt.ylabel(\"y\")\n",
    "    plt.xlim((0, 1))\n",
    "    plt.ylim((-2, 2))\n",
    "    plt.legend(loc=\"best\")\n",
    "    \n",
    "    # Print the polynomial degree and the training\n",
    "    # accuracy in the title of the graph\n",
    "    plt.title(\"Degree {}\\nTrain score = {:.3f}\".format(\n",
    "        d, score))\n",
    "    plt.show()   "
   ]
  },
  {
   "cell_type": "markdown",
   "metadata": {},
   "source": [
    "We can see that even though we are fitting a linear model every time, the behavior with respect to x is markedly non-linear. Moreover, we see some strange behavior as we increase the polynomial degree. What is going on here and why is it behaving in this way? To build some intuition, we can take a look at the learned weight coefficients, by accessing the `coef_` attribute of the fitted model:"
   ]
  },
  {
   "cell_type": "code",
   "execution_count": null,
   "metadata": {},
   "outputs": [],
   "source": [
    "linear_regression.coef_\n"
   ]
  },
  {
   "cell_type": "markdown",
   "metadata": {},
   "source": [
    "What is going on here? To understand this, we need to understand something about how the model is optimizing error and how we might control this behavior."
   ]
  },
  {
   "cell_type": "markdown",
   "metadata": {},
   "source": [
    "## Regularization and Controlling Model Complexity\n",
    "\n",
    "In the base case above, all the model is trying to do is minimize the Mean Squared Error (MSE) with respect to the training error, and with a sufficient number of parameters (polynomial features, in this case), it becomes possible to always achieve perfect accuracy (i.e., fit every point) in the training data. Unfortunately, as we can see, fitting the training data perfectly does not necessarily lead to a model that generalizes well to new data. To help us control this behavior, we can introduce the concept of **Regularization**, which is a way of penalizing overly complex models. Specifically, we can modify our cost function to be something like:\n",
    "\n",
    "$$\n",
    "Cost = Loss(w,D) + \\Omega(w)\n",
    "$$\n",
    "\n",
    "where $\\Omega(w)$ represents what we call a \"Regularization\" of the function or a \"Penalty Term\" The purpose of $\\Omega(w)$ is to help us prevent the (otherwise complex) model from being overly complicated, by penalizing this complexity. There are many ways to do this that we will see later on, but one common way to do this for linear models is to penalize the **total weight** that you allow all of the $w_i$ to have. Specifically how one calculates this total weight turns out to matter a lot, and we shall see it return in later chapters and sections. But to get us started in un-packing how to do this, we first need to talk about what a [Norm](https://en.wikipedia.org/wiki/Norm_(mathematics)) is, how it relates to Linear Regression weights, and how it helps us perform Regularization.\n",
    "\n",
    "### Norms and their relationship to Regularization\n",
    "A Norm is a concept in mathematics that allows us to essentially measure length or size, typically of vectors. Any time you have tried to compute the distance between two points in space (say, by using the Pythagorean Theorem), or the magnitude of an applied Force vector, you have been using a Norm --- most likely the Euclidean Norm or Euclidean Distance. For example, for a vector $\\mathbf{x}$ with $n$ dimensions, the Euclidean Norm looks like this:\n",
    "$$\n",
    "||\\mathbf{x}||_2 = \\sqrt{ x_1^2 + x_2^2 + \\cdots x_n^2 }\n",
    "$$\n",
    "If you have ever had to compute the total Force Magnitude given its x and y components (for example, in Statics class), you have used the Euclidean Norm to do so. In that context, it served to take multiple components of a Force aggregate them in such a way as to tell you something about the **total force** -- by analogy, we will do the same thing here with linear regression, where each weight is like a component and we can use the Euclidean Norm to compute the total weight.\n",
    "\n",
    "While Euclidean Norms may be quite useful or familiar to Engineers, it turns out that they are a special case of a much wider *family* of Norms called [*p-norms*](https://en.wikipedia.org/wiki/Lp_space#The_p-norm_in_finite_dimensions), which are defined as:\n",
    "$$\n",
    "||\\mathbf{x}||_p = \\left(|x_1|^p + |x_2|^p+\\cdots + |x_n|^p\\right)^{1/p} = \\left(\\sum_{i=1}^n \\left| x_i \\right|^p \\right)^p\n",
    "$$\n",
    "\n",
    "Specifically, the Euclidean Norm is called the L2-norm, or sometimes just the 2-norm. To see why this is, just set $p=2$ in the above, and note how it corresponds to the Euclidean Norm that we all know and love. So, by setting $p$ to a number between $0$ and $\\infty$, we can modify what the *total weight* means, and setting $p=2$ is the setting which we are all most familiar with. To get a visual sense of how norms vary, see below, which visualizes a line of \"circle\" of radius 1, but where the length of the line is determined by the p-norm. You will see that when p=2 this corresponds to what we are familiar with, but when p goes up or down things change.\n"
   ]
  },
  {
   "cell_type": "code",
   "execution_count": null,
   "metadata": {},
   "outputs": [],
   "source": [
    "from ipywidgets import interact, FloatSlider\n",
    "\n",
    "# Define a function to compute and plot the p-norm unit ball in 2D\n",
    "def plot_p_norm(p=2.0):\n",
    "    # Avoid invalid p values\n",
    "    if p <= 0:\n",
    "        print(\"p must be > 0\")\n",
    "        return\n",
    "    \n",
    "    theta = np.linspace(0, 2*np.pi, 400)\n",
    "    # Parametric form of p-norm unit circle\n",
    "    x = np.cos(theta)\n",
    "    y = np.sin(theta)\n",
    "    \n",
    "    # Normalize to p-norm = 1\n",
    "    denom = (np.abs(x)**p + np.abs(y)**p)**(1/p)\n",
    "    x_unit = x / denom\n",
    "    y_unit = y / denom\n",
    "    \n",
    "    plt.figure(figsize=(5,5))\n",
    "    plt.plot(x_unit, y_unit, label=f'p = {p:.2f}')\n",
    "    plt.gca().set_aspect('equal', adjustable='box')\n",
    "    plt.title(f'Unit Ball in p-norm (p={p:.2f})')\n",
    "    plt.legend()\n",
    "    plt.grid(True)\n",
    "    plt.show()\n",
    "\n",
    "# Interactive slider for p\n",
    "interact(\n",
    "    plot_p_norm,\n",
    "    p=FloatSlider(value=2.0, min=0.1, max=10.0, step=0.1, description='p')\n",
    ")"
   ]
  },
  {
   "cell_type": "markdown",
   "metadata": {},
   "source": [
    "For today, we will just focus on the L2-Norm, however we will revist norms again later where we will see how changing the one we are using can have positive or negative effects in certain circumstances. \n",
    "\n",
    "We will use the L2-Norm to help us penalize having linear regression models with really large weights, by essentially putting a cost on the total weight of the weight vector, where the total is measured by the L2-Norm. That is:\n",
    "$$\n",
    "Cost = \\sum_{n=1}^{N}||y-w\\cdot x||^2 + \\alpha \\cdot ||w||^2\n",
    "$$\n",
    "Where $\\alpha$ is the price we pay for including more weight in the linear model. If it reduces our error cost enough to offset the cost of the increased weight, then that may be worth it to us. Otherwise, we would err on the side of using less weight overall.\n",
    "\n",
    "This Regularization (i.e., increasing $\\alpha$) essentially allows you to trade off bias and variance, as we will see below."
   ]
  },
  {
   "cell_type": "raw",
   "metadata": {
    "vscode": {
     "languageId": "raw"
    }
   },
   "source": [
    "::: {.callout-tip appearance=\"default\"}\n",
    "### Experiment: Effect of Increasing Regularization Strength on Polynomial Fit\n",
    "In the below experiment, we will increase the regularization strength ($\\alpha$) for a fixed 15-degree polynomial, and observe its effect on the overfitting problem before.\n",
    "Consider the following questions as you observe the experiment below:\n",
    "\n",
    "- What happens when we set $\\alpha$ to a low (close to zero) value?\n",
    "- What happens when we set $\\alpha$ to a high value?\n",
    ":::"
   ]
  },
  {
   "cell_type": "code",
   "execution_count": null,
   "metadata": {},
   "outputs": [],
   "source": [
    "# Import Ridge Regression\n",
    "from sklearn.linear_model import Ridge\n",
    "\n",
    "# alpha determines how much of \n",
    "# a penalty the weights incur\n",
    "alphas = [0, 1e-20, 1e-10, 1e-7, 1e-5, 1, 10, 100]\n",
    "\n",
    "# For the below example, let's\n",
    "# just consider a 15-degree polynomial\n",
    "d=15\n",
    "np.random.seed(100)\n",
    "\n",
    "for a in alphas:\n",
    "    plt.figure(figsize=(7, 7))\n",
    "    polynomial_features = PolynomialFeatures(degree=d,\n",
    "                                             include_bias=False)\n",
    "    #linear_regression = LinearRegression() #<- Note difference with next line\n",
    "    linear_regression = Ridge(alpha=a)\n",
    "    pipeline = Pipeline([(\"polynomial_features\", polynomial_features),\n",
    "                         (\"linear_regression\", linear_regression)])\n",
    "    # Fit model\n",
    "    pipeline.fit(X[:, np.newaxis], y)\n",
    "    # Get Training Accuracy\n",
    "    score = pipeline.score(X[:, np.newaxis],y)\n",
    "\n",
    "    # Plot things\n",
    "    X_plot = np.linspace(0, 1, 100)\n",
    "    plt.plot(X_plot, pipeline.predict(X_plot[:, np.newaxis]), label=\"Model\")\n",
    "    plt.plot(X_plot, true_fun(X_plot), '--',label=\"True function\")\n",
    "    plt.scatter(X, y, label=\"Samples\")\n",
    "    plt.xlabel(\"x\")\n",
    "    plt.ylabel(\"y\")\n",
    "    plt.xlim((0, 1))\n",
    "    plt.ylim((-2, 2))\n",
    "    plt.legend(loc=\"best\")\n",
    "    \n",
    "    plt.title(\"Degree={}, $\\\\alpha$={}\\nTrain score = {:.3f}\".format(\n",
    "        d, a, score))\n",
    "    plt.show()"
   ]
  },
  {
   "cell_type": "markdown",
   "metadata": {},
   "source": [
    "## Examples of Other Commonly used Loss Functions in Linear Models\n",
    "Thus far we have been discussing Linear Models in their most familiar context --- minimizing the Mean Squared Error (MSE) with respect to the training data, optionally with an L2 regularization on the weight vector:\n",
    "\n",
    "$$\n",
    "\\mathcal{L}(\\mathbf{w}) = \\frac{1}{N} \\sum_{i=1}^N (y_i - \\mathbf{w}^T \\mathbf{x}_i)^2 + \\alpha ||\\mathbf{w}||_2^2\n",
    "$$\n",
    "\n",
    "For now, let us ignore the regularization term, and just focus on the Loss term. Why should we minimize the squared error?^[It turns out that there are good theoretical reasons for this, for example, that a Linear Model trained via an L2/MSE Loss is the Best Linear Unbiased Estimate (BLUE) of the Linear Model, according to the [Gauss-Markov Theorem](https://en.wikipedia.org/wiki/Gauss%E2%80%93Markov_theorem), but, as we will see, there are other reasons to forgo these advantages.] Why not the absolute error or other possible loss functions? Let's explore a few of those options and then see, in practice, how they affect the learned linear model."
   ]
  },
  {
   "cell_type": "markdown",
   "metadata": {},
   "source": [
    "## Loss Functions for Regression\n",
    "\n",
    "Beyond classical MSE, there are two main types of variants that are commonly used for regression problems:\n",
    "\n",
    "- Robust Loss Functions, that minimize the quadratic effect of the MSE loss for very large errors. These are typically used to make the trained model less sensitive to outliers in the training data.\n",
    "- Epsilon-Insensitive Loss functions, that ignore errors that are sufficiently small (within an $\\epsilon$ margin). These are typically used to incur some advantages in terms of sparsity in the learned model (for example, in Support Vector Methods, which we will see later).\n",
    "\n",
    "In reality, these two variants can be combined in different ways, which we will see reflected below, but as a summary, these are:\n",
    "\n",
    "- Absolute Loss: $|y - \\hat{y}|$\n",
    "- Huber Loss: A squared loss for small errors, and then transitioning to an absolute loss for large errors.\n",
    "- Epsilon-Insensitive Loss: A loss that is zero for errors up to $\\epsilon$  and then uses absolute loss for larger errors.\n",
    "- Squared Epsilon-Insensitive Loss: Similar to Epsilon-Insensitive Loss, but uses squared loss for errors larger than $\\epsilon$.\n",
    "\n",
    "Of course, you could imagine more complex variants and combinations of these properties, but these capture the main properties and benefits that we will see below."
   ]
  },
  {
   "cell_type": "code",
   "execution_count": null,
   "metadata": {},
   "outputs": [],
   "source": [
    "def modified_huber_loss(y):\n",
    "    if(abs(y)<1):\n",
    "        return y**2\n",
    "    else:\n",
    "        return 2*abs(y)-1\n",
    "mhuber = np.vectorize(modified_huber_loss)\n",
    "\n",
    "eps = 0.7\n",
    "def sq_esp_insensitive(y):\n",
    "    if(abs(y)<eps):\n",
    "        return 0\n",
    "    else:\n",
    "        return (abs(y)-eps)**2\n",
    "sq_eps_ins = np.vectorize(sq_esp_insensitive)"
   ]
  },
  {
   "cell_type": "code",
   "execution_count": null,
   "metadata": {},
   "outputs": [],
   "source": [
    "xmin, xmax = -4, 4\n",
    "xx = np.linspace(xmin, xmax, 100)\n",
    "\n",
    "plt.figure(figsize=(10,5))\n",
    "plt.plot(xx, xx**2, 'g-',\n",
    "         label=\"Squared Loss\")\n",
    "plt.plot(xx, abs(xx), 'g--',\n",
    "         label=\"Absolute Loss\")\n",
    "\n",
    "plt.plot(xx, abs(xx)-eps, 'b--',\n",
    "         label=\"Epsilon-Insensitive Loss\")\n",
    "\n",
    "plt.plot(xx, sq_eps_ins(xx), 'b-',\n",
    "         label=\"Sq-Epsilon-Insensitive Loss\")\n",
    "plt.plot(xx, mhuber(xx), 'r-',\n",
    "         label=\"Modified-Huber Loss\")\n",
    "\n",
    "plt.ylim((0, 8))\n",
    "plt.legend(loc=\"upper center\")\n",
    "plt.xlabel(\"Error\")\n",
    "plt.ylabel(\"$L(y, f(x))$\")\n",
    "plt.show()"
   ]
  },
  {
   "cell_type": "markdown",
   "metadata": {},
   "source": [
    "### Handling Outliers using Robust Loss Functions"
   ]
  },
  {
   "cell_type": "code",
   "execution_count": null,
   "metadata": {},
   "outputs": [],
   "source": [
    "# Create some data with Outliers\n",
    "n_samples = 1000\n",
    "n_outliers = 50\n",
    "\n",
    "Xr, yr, coef = make_regression(n_samples=n_samples, n_features=1,\n",
    "                              n_informative=1, noise=10,\n",
    "                              coef=True, random_state=0)\n",
    "# Add outlier data\n",
    "np.random.seed(0)\n",
    "Xr[:n_outliers] = 3 + 0.5 * np.random.normal(size=(n_outliers, 1))\n",
    "yr[:n_outliers] = -3 + 10 * np.random.normal(size=n_outliers)\n",
    "yr/=10\n",
    "yr += 10\n",
    "\n",
    "line_X = np.arange(-5, 5)\n",
    "figure = plt.figure(figsize=(9, 9))\n",
    "\n",
    "plt.scatter(Xr, yr,facecolors='None',edgecolors='k',alpha=0.5)\n",
    "\n",
    "# Loss Options: huber, squared_error, epsilon_insensitive, squared_epsilon_insensitive\n",
    "losses = ['huber', 'squared_error']\n",
    "for loss in losses:\n",
    "    model = SGDRegressor(loss=loss, fit_intercept=True, max_iter = 2000,\n",
    "                     penalty='l2', alpha=.001, epsilon=1, tol=1e-3)\n",
    "    model.fit(Xr, yr)\n",
    "\n",
    "    # Predict data of estimated models\n",
    "    line_y = model.predict(line_X[:, np.newaxis])\n",
    "    plt.plot(line_X, line_y, '-', label=loss,alpha=1)\n",
    "\n",
    "plt.axis('tight')\n",
    "plt.legend(loc='best')\n",
    "plt.show()"
   ]
  },
  {
   "cell_type": "markdown",
   "metadata": {},
   "source": [
    "## Loss Functions for Linear Classification\n",
    "\n",
    "Thus far we have only discussed Regression problems, where we are modeling a continuous output (e.g., $y=w^T\\cdot x$). However, Linear Models can also be used for Classification problems, where the output is discrete (e.g., $y \\in \\{0,1\\}$ or $y \\in \\{-1,1\\}$). A naive approach to handling this, would be to just train a regression model as per before, but then just threshold the output at some value to derive the class label. For example, we can take the below binary data:"
   ]
  },
  {
   "cell_type": "code",
   "execution_count": null,
   "metadata": {},
   "outputs": [],
   "source": [
    "from sklearn.datasets import make_classification\n",
    "X, y = make_classification(n_features=1, n_redundant=0, \n",
    "                           n_informative=1,\n",
    "                           random_state=1,\n",
    "                           n_clusters_per_class=1,\n",
    "                           flip_y=0.0, class_sep=1)\n",
    "plt.figure()\n",
    "plt.xlabel('x')\n",
    "plt.ylabel('True or False')\n",
    "plt.scatter(X,y,marker='o',facecolors='none',edgecolors='k')\n",
    "plt.show()"
   ]
  },
  {
   "cell_type": "markdown",
   "metadata": {},
   "source": [
    "and then fit a regular linear model to this:"
   ]
  },
  {
   "cell_type": "code",
   "execution_count": null,
   "metadata": {},
   "outputs": [],
   "source": [
    "model = SGDRegressor(loss='squared_error', fit_intercept=True, max_iter = 2000,\n",
    "                     penalty='l2', alpha=.001, epsilon=1, tol=1e-3)\n",
    "model.fit(X, y)\n",
    "Xp = np.linspace(X.min(),X.max(),100)\n",
    "Xp = Xp[:, np.newaxis]\n",
    "plt.figure()\n",
    "plt.scatter(X,y,marker='o',facecolors='none',edgecolors='k')\n",
    "plt.plot(Xp,model.predict(Xp))\n",
    "plt.show()\n"
   ]
  },
  {
   "cell_type": "markdown",
   "metadata": {},
   "source": [
    "We can see from the above that this is not entirely what we want -- for example, just setting the class cutoff at 0.5 would not produce a classification boundary that would be optimal. In contrast, we can modify the loss function to more accurately project the $w^T\\cdot x$ linear model into a classification context.\n",
    "\n",
    "We do this by modifying the loss function from Mean Squared Error to something like:\n",
    "$$\n",
    "y_i\\cdot(w\\cdot x_i)\n",
    "$$\n",
    "where $y_i = \\pm 1$ such that if $y_i$ and $w\\cdot x_i$ point have similar signs, then the decision function is positive, otherwise it is negative.\n",
    "\n",
    "With this change, we are now interested primarily with how the behavior of the loss function when we are in the negative regime (i.e., misclassified points):"
   ]
  },
  {
   "cell_type": "code",
   "execution_count": null,
   "metadata": {},
   "outputs": [],
   "source": [
    "# From: http://scikit-learn.org/stable/auto_examples/linear_model/plot_sgd_loss_functions.html\n",
    "def modified_huber_loss(y_true, y_pred):\n",
    "    z = y_pred * y_true\n",
    "    loss = -4 * z\n",
    "    loss[z >= -1] = (1 - z[z >= -1]) ** 2\n",
    "    loss[z >= 1.] = 0\n",
    "    return loss\n",
    "\n",
    "\n",
    "xmin, xmax = -4, 4\n",
    "xx = np.linspace(xmin, xmax, 100)\n",
    "lw = 2\n",
    "fig = plt.figure(figsize=(15,8))\n",
    "plt.plot([xmin, 0, 0, xmax], [1, 1, 0, 0], color='gold', lw=lw,\n",
    "         label=\"Zero-one loss\")\n",
    "plt.plot(xx, -np.minimum(xx, 0), color='yellowgreen', lw=lw,\n",
    "         label=\"Perceptron loss\")\n",
    "plt.plot(xx, modified_huber_loss(xx, 1), color='darkorchid', lw=lw,\n",
    "         linestyle='--', label=\"Modified Huber loss\")\n",
    "plt.plot(xx, np.log2(1 + np.exp(-xx)), color='cornflowerblue', lw=lw,\n",
    "         label=\"Log loss\")\n",
    "plt.plot(xx, np.where(xx < 1, 1 - xx, 0), color='teal', lw=lw,\n",
    "         label=\"Hinge loss\")\n",
    "plt.plot(xx, np.where(xx < 1, 1 - xx, 0) ** 2, color='orange', lw=lw,\n",
    "         label=\"Squared hinge loss\")\n",
    "plt.ylim((0, 8))\n",
    "plt.legend(loc=\"upper right\")\n",
    "plt.xlabel(r\"Decision function $f(x)$\")\n",
    "plt.ylabel(\"$L(y, f(x))$\")\n",
    "plt.show()"
   ]
  },
  {
   "cell_type": "code",
   "execution_count": null,
   "metadata": {},
   "outputs": [],
   "source": [
    "####### Try Changing the Below ######\n",
    "#loss = 'squared_error'\n",
    "loss = 'log_loss'\n",
    "#loss = 'hinge'\n",
    "#####################################\n",
    "\n",
    "model = SGDClassifier(loss=loss, fit_intercept=True, max_iter = 2000,\n",
    "                     penalty='l2', alpha=.001, epsilon=1, tol=1e-3)\n",
    "model.fit(X, y)\n",
    "Xp = np.linspace(X.min(),X.max(),100)\n",
    "Xp = Xp[:, np.newaxis]\n",
    "plt.figure()\n",
    "plt.scatter(X,y,marker='o',facecolors='none',edgecolors='k')\n",
    "try:\n",
    "    plt.plot(Xp,model.predict_proba(Xp)[:,1],label='probability')\n",
    "except:\n",
    "    pass\n",
    "plt.plot(Xp,model.predict(Xp))\n",
    "plt.title(\"Classifier with loss = {}\".format(loss))\n",
    "plt.show()"
   ]
  },
  {
   "cell_type": "markdown",
   "metadata": {},
   "source": [
    "We can also try this with 2D data to get a better sense of how some of the other loss functions behave:"
   ]
  },
  {
   "cell_type": "code",
   "execution_count": null,
   "metadata": {},
   "outputs": [],
   "source": [
    "from sklearn.preprocessing import StandardScaler\n",
    "from sklearn.datasets import make_moons, make_circles, make_classification\n",
    "\n",
    "\n",
    "X, y = make_classification(n_features=2, n_redundant=0, \n",
    "                           n_informative=2,\n",
    "                           random_state=1,\n",
    "                           n_clusters_per_class=1,\n",
    "                           flip_y=0.0, class_sep=0.7)\n",
    "\n",
    "linearly_separable = (X, y)\n",
    "\n",
    "datasets = [make_moons(noise=0.3, random_state=0),\n",
    "            make_circles(noise=0.2, factor=0.5, random_state=1),\n",
    "            linearly_separable\n",
    "            ]\n",
    "\n",
    "# Change: try 0,1, or 2\n",
    "ds = datasets[2]\n",
    "\n",
    "X, y = ds\n",
    "X = StandardScaler().fit_transform(X)\n",
    "\n",
    "plt.figure(figsize=(9, 9))\n",
    "plt.scatter(X[y==1,0],X[y==1,1],marker='+')\n",
    "plt.scatter(X[y==0,0],X[y==0,1],marker='o',facecolors='none',edgecolors='k')\n",
    "plt.show()"
   ]
  },
  {
   "cell_type": "markdown",
   "metadata": {},
   "source": [
    "::: {.callout-tip appearance=\"default\"}\n",
    "### Experiment: Effect of Linear Model Classification Losses\n",
    "In the below experiment, try modifying the different classification loss functions and re-running the model. You will see a dark solid line representing the decision boundary, and dashed lines representing where the decision boundary is +1 or -1. What do you notice?:\n",
    "\n",
    "- For the perceptron loss, what behavior do you observe if you re-run this model multiple times? Why do you observe this behavior?\n",
    "- Comparing the hinge loss to the perceptron loss, the loss functions look remarkably similar, yet they have very different behavior in the model. Why do you think this is?\n",
    "- Comparing the squared error versus log loss versus hinge, what sorts of differences in behavior do you observe? Thinking about the location of the decision boundary and the shape of the loss functions, why do you think they behave differently?\n",
    "\n",
    ":::"
   ]
  },
  {
   "cell_type": "code",
   "execution_count": null,
   "metadata": {},
   "outputs": [],
   "source": [
    "from sklearn.svm import LinearSVC\n",
    "\n",
    "# Try modifying these:\n",
    "#====================\n",
    "loss = 'squared_error'\n",
    "#loss = 'perceptron'\n",
    "#loss = 'log_loss'\n",
    "#loss = 'hinge'\n",
    "#loss = 'modified_huber'\n",
    "#loss = 'squared_hinge'\n",
    "\n",
    "# Also try the effect of Alpha:\n",
    "# e.g., between ranges 1e-20 and 1e0\n",
    "#=============================\n",
    "alpha=1e-3\n",
    "\n",
    "# You can also try other models by commenting out the below:\n",
    "model = SGDClassifier(loss=loss, fit_intercept=True,\n",
    "                      max_iter=2000,tol=1e-5, n_iter_no_change =100,\n",
    "                      penalty='l2',alpha=alpha) \n",
    "# If you would like to compare the SGDClassifier with hinge loss to LinearSVC, you can uncomment the below:\n",
    "#model = LinearSVC(loss='hinge',C=1e3)\n",
    "model.fit(X, y)\n",
    "\n",
    "plt.figure(figsize=(9, 9))\n",
    "\n",
    "h=0.01\n",
    "x_min, x_max = X[:, 0].min() - .5, X[:, 0].max() + .5\n",
    "y_min, y_max = X[:, 1].min() - .5, X[:, 1].max() + .5\n",
    "xx, yy = np.meshgrid(np.arange(x_min, x_max, h),\n",
    "                     np.arange(y_min, y_max, h))\n",
    "\n",
    "# Plot the decision boundary. For that, we will assign a color to each\n",
    "# point in the mesh [x_min, x_max]x[y_min, y_max].\n",
    "if hasattr(model, \"decision_function\"):\n",
    "    Z = model.decision_function(np.c_[xx.ravel(), yy.ravel()])\n",
    "else:\n",
    "    Z = model.predict_proba(np.c_[xx.ravel(), yy.ravel()])[:, 1]\n",
    "Z = Z.reshape(xx.shape)\n",
    "\n",
    "vmax = max(abs(Z.min()),abs(Z.max()))\n",
    "cm = plt.cm.RdBu\n",
    "plt.contourf(xx, yy, Z, cmap=cm, alpha=.5, vmax = vmax, vmin = -vmax)\n",
    "levels = [-1.0, 0.0, 1.0]\n",
    "linestyles = ['dashed', 'solid', 'dashed']\n",
    "colors = 'k'\n",
    "plt.contour(xx, yy, Z, levels, colors=colors, linestyles=linestyles)\n",
    "plt.scatter(X[y==1,0],X[y==1,1],marker='+')\n",
    "plt.scatter(X[y==0,0],X[y==0,1],marker='o',facecolors='none',edgecolors='k')\n",
    "plt.show()"
   ]
  },
  {
   "cell_type": "markdown",
   "metadata": {},
   "source": [
    "## Penalty Functions: Example of How $L_p$ Penalty Changes Loss Optima\n",
    "\n",
    "OK, so we have seen how different loss functions can affect the learned linear model. But what about the penalty function? How does changing the penalty function affect the learned model? Let's explore this with a simple example by again returning to fitting a line. In this case, we will fit an actual \"line\" to the data, by which I mean:\n",
    "\n",
    "$$\n",
    "y= w_0 + w_1 \\cdot x = \\mathbf{w}^T \\cdot \\mathbf{x}\n",
    "$$\n",
    "\n"
   ]
  },
  {
   "cell_type": "code",
   "execution_count": null,
   "metadata": {},
   "outputs": [],
   "source": [
    "# Generate noisy data from a line\n",
    "\n",
    "######################\n",
    "# Change Me!\n",
    "w1_true = 5\n",
    "w0_true = 2\n",
    "noise = 0.001\n",
    "#################\n",
    "\n",
    "true_func = lambda x: w1_true*x+w0_true\n",
    "\n",
    "num_samples = 50\n",
    "x = (np.random.rand(num_samples)-0.5)*20\n",
    "y = true_func(x)+np.random.normal(scale=noise,size=num_samples)"
   ]
  },
  {
   "cell_type": "code",
   "execution_count": null,
   "metadata": {},
   "outputs": [],
   "source": [
    "plt.figure()\n",
    "plt.scatter(x,y)\n",
    "plt.show()"
   ]
  },
  {
   "cell_type": "markdown",
   "metadata": {},
   "source": [
    "In this case, since we have very little noise (although you can play with this if you would like), you can see that if we put in the true intercept and slope, we get zero (or close to zero) training objective."
   ]
  },
  {
   "cell_type": "code",
   "execution_count": null,
   "metadata": {},
   "outputs": [],
   "source": [
    "#| code-fold: false\n",
    "from numpy.linalg import norm\n",
    "def loss(a,b,alpha,order=2):\n",
    "    return np.average((y - (a*x+b))**2) + alpha*norm([a,b],ord=order)\n",
    "\n",
    "#example\n",
    "print(f\"Objective: {loss(a=5,b=2,alpha=0)}\")"
   ]
  },
  {
   "cell_type": "markdown",
   "metadata": {},
   "source": [
    "This tells us the objective at the true parameters, but now let's visualize how the total objective (training error + penalty) varies as we change the parameters. To do this, we can compute the total objective over a grid of possible values for $w_0$ and $w_1$, and then plot the contours of this objective function:"
   ]
  },
  {
   "cell_type": "code",
   "execution_count": null,
   "metadata": {},
   "outputs": [],
   "source": [
    "A, B = np.meshgrid(np.linspace(-10, 10, 201), np.linspace(-10, 10, 201))\n",
    "N,M = A.shape\n",
    "floss = np.vectorize(loss)\n",
    "\n",
    "def generate_new_data(a=5,b=5):\n",
    "    x = (np.random.rand(num_samples)-0.5)*20\n",
    "    #y = true_func(x)+np.random.normal(scale=1,size=num_samples)\n",
    "    y = a*x+b+np.random.normal(scale=1,size=num_samples)\n",
    "    return x,y\n",
    "\n",
    "def generate_z_grid(alpha,order):\n",
    "    Z_noalpha = floss(A.flatten(),B.flatten(),0).reshape((N,M))\n",
    "    alpha=alpha\n",
    "    Z = floss(A.flatten(),B.flatten(),alpha,order)\n",
    "    min_ind = np.argmin(Z)\n",
    "    Amin = A.flatten()[min_ind]\n",
    "    Bmin = B.flatten()[min_ind]\n",
    "    Z = Z.reshape((N,M))\n",
    "    return Z_noalpha, Z, Amin, Bmin\n",
    "\n",
    "get_levels = lambda z: [np.percentile(z.flatten(),i) for i in [0,0.5,1,2,5,10,15,30,40,50,75,95,100]]\n",
    "#levels = [np.percentile(allz,i) for i in [0,0.5,1,2,5,10,15,30,40,50,75,95,100]]\n",
    "#levels = [np.percentile(allz,i) for i in np.logspace(-2,3,10,base=3)]\n",
    "\n",
    "def plot_objective(alpha=0,order=2):\n",
    "    Z_noalpha, Z, Amin, Bmin = generate_z_grid(alpha,order)\n",
    "    plt.figure(figsize=(7,7))\n",
    "    plt.vlines(0,-10,10,alpha=0.25,colors='r',linestyles='solid')\n",
    "    plt.hlines(0,-10,10,alpha=0.25,colors='r',linestyles='solid')\n",
    "    plt.contour(A,B,Z_noalpha,10,levels=get_levels(Z_noalpha),linestyles='solid',cmap='Greys_r',alpha=0.05)\n",
    "    plt.contour(A,B,Z,10,levels=get_levels(Z),linestyles='solid',cmap='Greys_r',alpha=0.5)\n",
    "    plt.scatter([0],[0],marker='D',s=50,c='r')\n",
    "    plt.scatter([w1_true],[w0_true],marker='*',s=400)\n",
    "    plt.scatter([Amin],[Bmin])\n",
    "    plt.xlabel('a')\n",
    "    plt.ylabel('b')\n",
    "    plt.title('Optima: a={:.2f}, b={:.2f}'.format(Amin,Bmin))\n",
    "    plt.show()"
   ]
  },
  {
   "cell_type": "code",
   "execution_count": null,
   "metadata": {},
   "outputs": [],
   "source": [
    "#| code-fold: false\n",
    "interact(plot_objective,\n",
    "         alpha=np.logspace(-2,5,8),\n",
    "         order=FloatSlider(min=0,max=10,step=0.1,continuous_update=False,value=2.0))"
   ]
  },
  {
   "cell_type": "markdown",
   "metadata": {},
   "source": [
    "Here we can see the true optimal parameters as a blue star, the objective function contours as dark gray lines, and the red diamond shows the point where both weights are zero. The orange circle shows the minimum point of the objective function. If you increase the value of alpha in the drop down, this will increase the penalty weight, and you can see how both the objective and the optimal point change. Moreover, you can change the p-norm order in the penalty to see what effect this has on the total objective function."
   ]
  },
  {
   "cell_type": "markdown",
   "metadata": {
    "vscode": {
     "languageId": "raw"
    }
   },
   "source": [
    "::: {.callout-tip appearance=\"default\"}\n",
    "### Experiment: How do the different penalty terms affect the Objective Function and the optimal weight?\n",
    "Try modifying the following:\n",
    "\n",
    "- As you increase the penalty weight under the L2 norm, how does the objective landscape change? \n",
    "- If you use a p-order that is less than 2, how does this alter the objective landscape?\n",
    "- The L1 norm is known to induce sparsity in the optimal weights. Do you observe this in the objective landscape? Why or why not?\n",
    "- Different types of regularization within the p-norm family are often referred to as \"Shrinkage\" operators. Why do you think this is the case, based on what you observe?\n",
    "- If my goal is to induce sparsity, it would make sense to consider the L0 norm, which just counts the number of non-zero entries in a vector. Based on the plots below, why won't this work?\n",
    "\n",
    ":::"
   ]
  },
  {
   "cell_type": "markdown",
   "metadata": {},
   "source": [
    "To help visualize the experiment above, let's try plotting, for different norm orders, the path that the coefficients take as we set alpha = 0 (no regularization) to a large number (essentially fully regularized). Now the light green contour represents just the contribution to the objective from the training error (no regularization), and the light gray contour shows the contribution from the penalty term (no training error). The blue line shows how the optimal weight changes as we increase the penalty weight from 0 to a large number.^[Note how I can visually find the optimal weight by fixing a given iso-contour of the regularization term (the gray lines) and then finding the point along that iso-contour where the green contour is minimized.]"
   ]
  },
  {
   "cell_type": "code",
   "execution_count": null,
   "metadata": {},
   "outputs": [],
   "source": [
    "from scipy.optimize import fmin\n",
    "import warnings\n",
    "warnings.simplefilter('ignore', RuntimeWarning)\n",
    "\n",
    "alpha_range = np.logspace(-1,5,14)\n",
    "order_range = [0,0.25,.5,.75,1,1.5,2,3,5,10,20,100]\n",
    "\n",
    "Al = len(alpha_range)\n",
    "Ol = len(order_range)\n",
    "results = np.zeros((Al,Ol,2))\n",
    "\n",
    "for j,o in enumerate(order_range):\n",
    "    prev_opt = [5,5]\n",
    "    for i,a in enumerate(alpha_range):\n",
    "        f = lambda x: loss(x[0],x[1],alpha=a,order=o)\n",
    "        x_opt = fmin(f,prev_opt,disp=False)\n",
    "        results[i,j] = x_opt\n",
    "        prev_opt = x_opt"
   ]
  },
  {
   "cell_type": "code",
   "execution_count": null,
   "metadata": {},
   "outputs": [],
   "source": [
    "for j,o in enumerate(order_range):\n",
    "    fig = plt.figure(figsize=(12,7))\n",
    "    Z_noalpha, Z, Amin, Bmin = generate_z_grid(10000,o)\n",
    "    plt.contour(A,B,Z_noalpha,10,levels=get_levels(Z_noalpha),linestyles='solid',alpha=0.2,colors='g')\n",
    "    plt.contour(A,B,Z,10,levels=get_levels(Z),linestyles='solid',alpha=0.2,colors='k')\n",
    "    plt.plot(results[:,j,0],results[:,j,1],marker='o',alpha=0.75)\n",
    "    plt.title('L-{} Norm'.format(o))\n",
    "    plt.axis('equal')\n",
    "    plt.xlim([-1,6])\n",
    "    plt.ylim([-1,3])\n",
    "    plt.show()"
   ]
  },
  {
   "cell_type": "markdown",
   "metadata": {},
   "source": [
    "## Summary of How to Select a Loss or Penalty function\n",
    "In class, we reviewed a couple of different forms of loss functions and penalty functions and talked a bit about the criteria for selecting them. Below is a very short summary of these.\n",
    "\n",
    "### Loss Functions for Regression:\n",
    "* If you have no prior knowledge of the function or data, then selecting an L2 type loss (like the Mean Squared Error) is reasonable. When data nicely behaves w.r.t. a linear model (e.g., features are uncorrelated, errors in the linear model are uncorrelated, have equal variances, and expected error of zero around the linear model, etc.) then a Linear Model with an L2 Loss is the Best Linear Unbiased Estimate (BLUE) according to the [Gauss-Markov Theorem](https://en.wikipedia.org/wiki/Gauss%E2%80%93Markov_theorem).\n",
    "* If you have reason to believe that the data will have outliers or otherwise need to be robust to spurious large samples, then L2 loss will not be robust to this (as we saw in Lecture). For this, moving to an L1 type loss (like an Absolute Loss or Huber loss) will make the model less sensitive to outliers. It is one approach to handling [Robust Regression](https://en.wikipedia.org/wiki/Robust_regression).\n",
    "* If you need to have the model's loss be dominated only by a handful of points/data as opposed to all of the data, then epsilon-insensitive loss is appropriate since many points well-fit by the model will have \"zero\" loss. For things like Linear Models, this has limited usefulness right now. However, when we \"kernalize\" Linear models in \"Kernels\" week, you will see that this is a big deal, and it is what gives rise to the \"Support Vector\" part of \"Support Vector Machines\". Specifically, decreasing epsilon towards zero increases the number of needed Support Vectors (can be a bad thing), and increasing epsilon can decrease the number of needed Support Vectors (can be a good thing). This will make more sense in a few week's time.\n",
    "\n",
    "### Loss Functions for Classification:\n",
    "* Zero-One loss sounds nice, but is not useful in practice, since it is not differentiable.\n",
    "* [Perceptron loss](https://en.wikipedia.org/wiki/Perceptron), while of historical importance, is not terribly useful in practice, since it does not converge to a unique solution and an SVM (i.e., Hinge Loss below) has all of the same benefits.\n",
    "* If you need a simple linear model which outputs actual probabilities (like, 95% sure the component has failed), then the log-loss does this, via [Logistic Regression](https://en.wikipedia.org/wiki/Logistic_regression) and allows you to calculate classification probabilities in closed form.\n",
    "* If you want something that [maximizes the margin](https://en.wikipedia.org/wiki/Margin_(machine_learning)) of the classifier, then the Hinge Loss can get close to this. It is the basis of [Linear Support Vector Machines](https://en.wikipedia.org/wiki/Support_vector_machine#Linear_SVM)\n",
    "\n",
    "### Penalty Terms (Lp Norms) for Linear Models:\n",
    "* $L_2$ Norm penalties on the weight vector essentially \"shrink\" the weights towards zero as you increase the penalty weight. Adding this kind of penalty to a linear model has different names, depending on which community of people you are talking with. Some of these other names are: (1) [Tikhonov regularization](https://en.wikipedia.org/wiki/Tikhonov_regularization), (2) Ridge Regression, (3) $L_2$ Shrinkage Estimators, or (4) Gaussian Weight Priors. I find looking at the penalty term itself more helpful at understanding the effects rather than memorizing the different names.\n",
    "* $L_0$ Norm penalties, while conceptually interesting since they essentially \"count\" entries in the weight vector, are not practically useful since they are not differentiable and are thus difficult to optimize.\n",
    "* $L_1$ Norm penalties are a compromise between $L_2$ and $L_0$ in that they promote sparsity in the weights (some weights will become zero) but are (largely) differentiable, meaning that you can meaningfully optimize them (unlike $L_0$). Shrinking certain weights to zero in this way can be useful when (1) you are in the $n \\ll p$ regime (many more features than data points) where the model is underdetermined and (2) you want some degree of model interpretability (it sets many weights to zero). Some of these other names for this kind of linear regression with this penalty are the [LASSO (least absolute shrinkage and selection operator)](https://en.wikipedia.org/wiki/Lasso_(statistics)). \n",
    "* $L_\\infty$ (where p is really large) essentially penalize the size of the biggest element of the weight vector (w). While there are some niche instances where this kind of norm is useful for a Loss function (e.g., [Chebyshev Regression](https://en.wikipedia.org/wiki/Minimax_approximation_algorithm)), I have rarely seen meaningful use cases in practice where this makes sense as a penalty term for the weight vector.\n",
    "* Combinations of penalties. For example, a common combination is combining both an $L_2$ and $L_1$ penalty on the weights, as in: $\\Omega(w) = \\alpha ||w||_2 + \\beta ||w||_1$. This particular combination is called [\"Elastic Net\"](https://en.wikipedia.org/wiki/Elastic_net_regularization) and exhibits some of the good properties of $L_2$ penalities with the sparsity inducing properties of $L_1$ regularization."
   ]
  },
  {
   "cell_type": "markdown",
   "metadata": {},
   "source": []
  }
 ],
 "metadata": {
  "kernelspec": {
   "display_name": ".conda",
   "language": "python",
   "name": "python3"
  },
  "language_info": {
   "codemirror_mode": {
    "name": "ipython",
    "version": 3
   },
   "file_extension": ".py",
   "mimetype": "text/x-python",
   "name": "python",
   "nbconvert_exporter": "python",
   "pygments_lexer": "ipython3",
   "version": "3.12.11"
  }
 },
 "nbformat": 4,
 "nbformat_minor": 1
}
