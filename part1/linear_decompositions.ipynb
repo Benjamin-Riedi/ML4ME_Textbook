{
 "cells": [
  {
   "cell_type": "raw",
   "metadata": {
    "vscode": {
     "languageId": "raw"
    }
   },
   "source": [
    "---\n",
    "title: Review of Linear Unsupervised Learning\n",
    "author: Mark Fuge\n",
    "date: 'September 28 2025'\n",
    "format:\n",
    "    html:\n",
    "        code-fold: true\n",
    "---"
   ]
  },
  {
   "cell_type": "markdown",
   "metadata": {},
   "source": [
    "In this notebook, we will briefly review some of the key concepts of linear unsupervised learning, including Principal Component Analysis (PCA) and the effects of regularizations on linear decompositions, such as SparsePCA and Non-negative Matrix Factorization (NMF). We will use a set of airfoil geometries to demonstrate these effects visually. For those who need to refresh their memory on basic concepts around Matrices and how they affect data, you can see visual examples in [Appendix C](../appendices/review_of_singular_value_decomposition.ipynb)"
   ]
  },
  {
   "cell_type": "code",
   "execution_count": null,
   "metadata": {},
   "outputs": [],
   "source": [
    "import numpy as np\n",
    "import ipywidgets as widgets\n",
    "import requests\n",
    "import io\n",
    "from matplotlib import pyplot as plt\n",
    "from matplotlib.colors import TwoSlopeNorm\n",
    "\n",
    "# Download the airfoil dataset from GitHub\n",
    "url = \"https://github.com/IDEALLab/ML4ME_Textbook/raw/main/part1/airfoil_interp_uniform.npy\"\n",
    "\n",
    "# Download the data file\n",
    "response = requests.get(url)\n",
    "response.raise_for_status()  # raise an error if download failed\n",
    "\n",
    "# Load into numpy array\n",
    "X_airfoils = np.load(io.BytesIO(response.content))\n",
    "\n"
   ]
  },
  {
   "cell_type": "markdown",
   "metadata": {},
   "source": [
    "First, let's load some airfoil geometry coordinates, take a look at the shape of the data matrix, and pick a random one to visualize:"
   ]
  },
  {
   "cell_type": "code",
   "execution_count": null,
   "metadata": {},
   "outputs": [],
   "source": [
    "# Reshape the matrix so that it is N by D\n",
    "# where D is the X and Y coordinates concantinated together\n",
    "def make_matrix(X): return np.reshape(X, (X.shape[0], -1))\n",
    "def make_airfoils(X): return X.reshape((X.shape[0], -1, 2))\n",
    "def make_airfoil(X): return X.reshape((-1, 2))\n",
    "\n",
    "# Centering the airfoils\n",
    "X_airfoils[:,:,0] -= X_airfoils[:,:,0].mean()\n",
    "X_airfoils[:,:,1] -= X_airfoils[:,:,1].mean()\n",
    "\n",
    "print(f\"The shape of the airfoil dataset is {X_airfoils.shape}\")\n",
    "\n",
    "# Split training and test data\n",
    "test_split = 0.8\n",
    "N = X_airfoils.shape[0]\n",
    "split = int(N*test_split)\n",
    "X_train = X_airfoils[:split]\n",
    "\n",
    "#### You can select a different Airfoil here if you want:\n",
    "airfoil_id = 25\n",
    "#####################\n",
    "\n",
    "plt.figure()\n",
    "plt.scatter(X_airfoils[airfoil_id,:,0],\n",
    "            X_airfoils[airfoil_id,:,1])\n",
    "plt.axis('equal')\n",
    "plt.title(f\"Example of an airfoil geometry (id={airfoil_id})\")\n",
    "plt.show()"
   ]
  },
  {
   "cell_type": "markdown",
   "metadata": {},
   "source": [
    "Great, as we can see there are 1528 airfoils, expressed as 192 surface coordinates each with an x and y value. We can turn this into a matrix compatible with a linear decomposition by flattening the last two dimensions, so that each airfoil is a row vector of length 384 (2x192)."
   ]
  },
  {
   "cell_type": "code",
   "execution_count": null,
   "metadata": {},
   "outputs": [],
   "source": [
    "#| code-fold: false\n",
    "X_train = make_matrix(X_train)\n",
    "print(\"Matrix Shape:\",X_train.shape)\n",
    "data = X_train\n",
    "\n",
    "# Transform back to original shape for plotting\n",
    "# That is, make it back to N by 192 by 2\n",
    "airfoils = make_airfoils(X_train)\n",
    "print(\"Airfoils Data Shape:\",airfoils.shape)\n",
    "plt.figure()\n",
    "plt.scatter(airfoils[airfoil_id,:,0],\n",
    "            airfoils[airfoil_id,:,1])\n",
    "plt.axis('equal')\n",
    "plt.show()"
   ]
  },
  {
   "cell_type": "markdown",
   "metadata": {},
   "source": [
    "Now let's demonstrate how to use various dimension reduction algorithms on this example.\n",
    "\n",
    "## Principal Component Analysis"
   ]
  },
  {
   "cell_type": "markdown",
   "metadata": {},
   "source": [
    "Mathematically, given centered data $X \\in R^{n×d}$, PCA finds k orthonormal components that best reconstruct the data in least-squares sense. One convenient formulation is\n",
    "\n",
    "$$\n",
    "\\min_{W,Z}\\;\\|X - Z W\\|_{F}^{2}\\quad\\text{s.t. }Z=XW^{T},\\;W W^{T}=I.\n",
    "$$ \n",
    "\n",
    "Equivalently PCA maximizes the projected variance:\n",
    "\n",
    "$$\n",
    "\\max_{W:\\;W W^{T}=I} \\;\\mathrm{tr}(W \\Sigma W^{T}),\\quad \\Sigma=\\frac{1}{n}X^{T}X.\n",
    "$$ \n",
    "\n",
    "Notes:\n",
    "\n",
    "- There is no explicit L1/L2 penalty in vanilla PCA; the constraint $W W^{T}=I$ enforces orthonormality of components.\n",
    "- The analytical solution is given by the top-k eigenvectors of the covariance (or the top-k left/right singular vectors from SVD)."
   ]
  },
  {
   "cell_type": "code",
   "execution_count": null,
   "metadata": {},
   "outputs": [],
   "source": [
    "#| code-fold: false\n",
    "from sklearn import decomposition\n",
    "\n",
    "# We can set the maximum number of components that we want to truncate to\n",
    "# Or can just leave it as None to get all components\n",
    "n_components = 20\n",
    "estimator = decomposition.PCA(n_components=n_components)\n",
    "Z_pca = estimator.fit_transform(data)\n",
    "components_ = estimator.components_"
   ]
  },
  {
   "cell_type": "markdown",
   "metadata": {},
   "source": [
    "We see that we now possess a matrix (i.e., linear operator) that goes from the target 20 components/dimensions back to the original 382 dimensions."
   ]
  },
  {
   "cell_type": "code",
   "execution_count": null,
   "metadata": {},
   "outputs": [],
   "source": [
    "#| code-fold: false\n",
    "print(f\"The shape of the components_ matrix (W) is {components_.shape}\")"
   ]
  },
  {
   "cell_type": "markdown",
   "metadata": {},
   "source": [
    "If we wanted to visualize how each of these components looks like in terms of the original airfoil coordinates, we can reshape each row of the components matrix back to the original airfoil shape:"
   ]
  },
  {
   "cell_type": "code",
   "execution_count": null,
   "metadata": {},
   "outputs": [],
   "source": [
    "#| code-fold: false\n",
    "components_.reshape((n_components, -1, 2)).shape"
   ]
  },
  {
   "cell_type": "markdown",
   "metadata": {},
   "source": [
    "Let's go ahead and visualize the first all of the learned components:"
   ]
  },
  {
   "cell_type": "code",
   "execution_count": null,
   "metadata": {},
   "outputs": [],
   "source": [
    "# Component heatmap\n",
    "plt.figure(figsize=(10,4))\n",
    "plt.imshow(components_, aspect='auto', cmap='RdBu_r', interpolation='nearest', \n",
    "           norm=TwoSlopeNorm(vmin=components_.min(), vcenter=0, vmax=components_.max()))\n",
    "plt.colorbar(label='weight')\n",
    "plt.xlabel(f\"Feature index ($d \\\\in {Z_pca.shape[0]}$)\")\n",
    "plt.ylabel(f\"Latent index ($k \\\\in {Z_pca.shape[1]}$)\")\n",
    "plt.title('PCA Component Matrix (latent codes x original features)')\n",
    "plt.show()"
   ]
  },
  {
   "cell_type": "markdown",
   "metadata": {},
   "source": [
    "We notice a kind of alternating aliasing pattern in the components, but recall, this is because of how we reshaped the original data, which had rows of x and y coordinates interleaved. To make this clearer, we can visually re-order the indices of the components so that all the x-coordinates come first (first 192 features), followed by all the y-coordinates (second 192 features):"
   ]
  },
  {
   "cell_type": "code",
   "execution_count": null,
   "metadata": {},
   "outputs": [],
   "source": [
    "# make an array with all of the odd indices of components_\n",
    "def reorder_indices(components):\n",
    "    return np.hstack([components[:,0:-1:2],components[:,1:-1:2]])\n",
    "\n",
    "# Component heatmap\n",
    "plt.figure(figsize=(10,4))\n",
    "plt.imshow(reorder_indices(components_), aspect='auto', cmap='RdBu_r', interpolation='nearest', \n",
    "           norm=TwoSlopeNorm(vmin=components_.min(), vcenter=0, vmax=components_.max()))\n",
    "plt.colorbar(label='weight')\n",
    "plt.xlabel(f\"Feature index ($d \\\\in {Z_pca.shape[0]}$)\")\n",
    "plt.ylabel(f\"Latent index ($k \\\\in {Z_pca.shape[1]}$)\")\n",
    "plt.title('PCA Component Matrix (latent codes x original features) - Reordered')\n",
    "plt.show()"
   ]
  },
  {
   "cell_type": "markdown",
   "metadata": {},
   "source": [
    "OK, this now looks a little clearer. What do you notice?\n",
    "\n",
    "We can next visualize how each data point is mapped to all of the latent coordinates:"
   ]
  },
  {
   "cell_type": "code",
   "execution_count": null,
   "metadata": {},
   "outputs": [],
   "source": [
    "# Latent Coordinate heatmap\n",
    "plt.figure(figsize=(10,4))\n",
    "plt.imshow(Z_pca, aspect='auto', cmap='RdBu_r', interpolation='nearest',\n",
    "           norm=TwoSlopeNorm(vmin=Z_pca.min(), vcenter=0, vmax=Z_pca.max()))\n",
    "plt.colorbar(label='weight')\n",
    "plt.xlabel(f\"Latent index ($k \\\\in {Z_pca.shape[1]}$)\")\n",
    "plt.ylabel(f\"Data Point index ($n \\\\in {Z_pca.shape[0]}$)\")\n",
    "plt.title('Latent codes for each Data Point')\n",
    "plt.show()"
   ]
  },
  {
   "cell_type": "markdown",
   "metadata": {},
   "source": [
    "Why do you think the first few components are more important than the later ones? We can gain some intuition here by looking at the amount of variance explained by each component:"
   ]
  },
  {
   "cell_type": "code",
   "execution_count": null,
   "metadata": {},
   "outputs": [],
   "source": [
    "plt.figure()\n",
    "plt.plot(estimator.explained_variance_)\n",
    "plt.ylabel(\"Explained Variance\")\n",
    "plt.xlabel(\"Latent Dimension\")\n",
    "plt.title(\"PCA Explained Variance\")\n",
    "plt.xticks(np.arange(n_components))\n",
    "plt.show()"
   ]
  },
  {
   "cell_type": "markdown",
   "metadata": {},
   "source": [
    "We can also visualize the cumulative explained variance to see how many components are needed to explain a certain amount of variance in the data. For example, we can plot a line at the number of dimensions we need to keep to explain 99% of the variance:"
   ]
  },
  {
   "cell_type": "code",
   "execution_count": null,
   "metadata": {},
   "outputs": [],
   "source": [
    "cumulative_explained_var_ratio = np.cumsum(estimator.explained_variance_ratio_)\n",
    "number_of_vars_to_99 = np.argmax(cumulative_explained_var_ratio>.99)\n",
    "plt.figure()\n",
    "plt.plot(cumulative_explained_var_ratio,label=\"Cumulative Explained Variance\")\n",
    "plt.ylabel(\"Explained Variance\")\n",
    "plt.xlabel(\"Latent Dimension\")\n",
    "plt.xticks(np.arange(n_components))\n",
    "plt.vlines(number_of_vars_to_99,\n",
    "           np.min(cumulative_explained_var_ratio),1.0,\n",
    "           colors=\"k\",linestyles='dashed',\n",
    "          label = \"99% Explained Variance\")\n",
    "plt.legend()\n",
    "plt.title(\"PCA Cumulative Explained Variance\")\n",
    "plt.show()"
   ]
  },
  {
   "cell_type": "markdown",
   "metadata": {},
   "source": [
    "Or plot the explained variance ratio as a function of the number of components, which tells us how much each additional component contributes to the total explained variance:"
   ]
  },
  {
   "cell_type": "code",
   "execution_count": null,
   "metadata": {},
   "outputs": [],
   "source": [
    "plt.figure()\n",
    "plt.plot(estimator.explained_variance_ratio_)\n",
    "plt.ylabel(\"Explained Variance Ratio\")\n",
    "plt.xlabel(\"Latent Dimension\")\n",
    "plt.xticks(np.arange(n_components))\n",
    "plt.title(\"PCA Explained Variance Ratio\")\n",
    "plt.show()"
   ]
  },
  {
   "cell_type": "markdown",
   "metadata": {},
   "source": [
    "We can see that this approximately follows the singular values of the data matrix:"
   ]
  },
  {
   "cell_type": "code",
   "execution_count": null,
   "metadata": {},
   "outputs": [],
   "source": [
    "print(f\"Singular Values: {estimator.singular_values_}\")\n",
    "plt.figure()\n",
    "plt.plot(estimator.singular_values_)\n",
    "plt.ylabel(\"Singular Values\")\n",
    "plt.xlabel(\"Latent Dimension\")\n",
    "plt.xticks(np.arange(n_components))\n",
    "plt.title(\"PCA Singular Values\")\n",
    "plt.show()"
   ]
  },
  {
   "cell_type": "markdown",
   "metadata": {},
   "source": [
    "Moving beyond just the singular values, we can also now look at the projection of each airfoil into any of the latent dimensions. It is natural to explore the first two, since those explain the largest variance:"
   ]
  },
  {
   "cell_type": "code",
   "execution_count": null,
   "metadata": {},
   "outputs": [],
   "source": [
    "z = estimator.transform(data)\n",
    "plt.figure()\n",
    "plt.scatter(z[:,0],z[:,1],alpha=0.3)\n",
    "plt.xlabel(\"1st Principal Component\")\n",
    "plt.ylabel(\"2nd Principal Component\")   \n",
    "plt.title(\"PCA Projection onto First Two Principal Components\")\n",
    "plt.show()  "
   ]
  },
  {
   "cell_type": "markdown",
   "metadata": {},
   "source": [
    "We can also pull out the \"latent code/coordinates/vector\" for an individual airfoil:"
   ]
  },
  {
   "cell_type": "code",
   "execution_count": null,
   "metadata": {},
   "outputs": [],
   "source": [
    "#| code-fold: false\n",
    "z[airfoil_id,:]"
   ]
  },
  {
   "cell_type": "markdown",
   "metadata": {},
   "source": [
    "### How does the # Components affect the Airfoil Reconstruction?\n",
    "\n",
    "We can see visually the effect of including an increasing number of components by looking at how this affects the reconstruction of a single airfoil:"
   ]
  },
  {
   "cell_type": "code",
   "execution_count": null,
   "metadata": {},
   "outputs": [],
   "source": [
    "for n_components in range(2,10):\n",
    "    estimator = decomposition.PCA(n_components=n_components, whiten=False)\n",
    "    \n",
    "    # Train the model\n",
    "    estimator.fit(data)\n",
    "    # Project down to the low dimensional space\n",
    "    z     = np.dot(data - estimator.mean_, estimator.components_.T)\n",
    "    # Re-Project back to the high dimensional space\n",
    "    x_hat = np.dot(z[0], estimator.components_) + estimator.mean_\n",
    "\n",
    "    # Now plot them\n",
    "    airfoil_original = make_airfoil(data[0])\n",
    "    airfoil_reconstructed = make_airfoil(x_hat)\n",
    "    airfoil_mean = make_airfoil(estimator.mean_)\n",
    "    plt.figure()\n",
    "    plt.plot(airfoil_original[:,0],\n",
    "             airfoil_original[:,1],\n",
    "             alpha=0.75,\n",
    "             label = 'Original')\n",
    "    plt.plot(airfoil_reconstructed[:,0],\n",
    "                airfoil_reconstructed[:,1],\n",
    "                alpha=0.5,\n",
    "                label='Reconstructed')\n",
    "\n",
    "    plt.title(f\"Using {n_components} Number of Components\")\n",
    "    plt.legend()\n",
    "    plt.axis('equal')\n",
    "    plt.show()\n"
   ]
  },
  {
   "cell_type": "code",
   "execution_count": null,
   "metadata": {},
   "outputs": [],
   "source": [
    "\n",
    "# Interactive top-k overlay for contribution\n",
    "if widgets is not None:\n",
    "    top_k_slider = widgets.IntSlider(value=1, min=1, max=9, step=1, description='top_k')\n",
    "    def show_topk(k=4):\n",
    "        # Find the first k principal components and multiply them with the corresponding latent variables\n",
    "        contrib = np.dot(z[airfoil_id,:k], components_[:k,:])+ estimator.mean_\n",
    "        plt.figure(figsize=(6,3))\n",
    "        plt.plot(make_airfoil(data[airfoil_id])[:,0], make_airfoil(data[airfoil_id])[:,1], label='Original', alpha=0.6)\n",
    "        plt.plot(make_airfoil(contrib)[:,0], make_airfoil(contrib)[:,1], label='Top-k contribution', color='C3')\n",
    "        plt.plot(make_airfoil(data.mean(axis=0))[:,0], make_airfoil(data.mean(axis=0))[:,1], '-', color='g', label='Mean')\n",
    "        plt.axis('equal')\n",
    "        plt.title(f'Top-{k} component contributions (overlay)')\n",
    "        plt.legend()\n",
    "        plt.show()\n",
    "    display(widgets.VBox([top_k_slider, widgets.interactive_output(show_topk, {'k': top_k_slider})]))\n",
    "else:\n",
    "    print('ipywidgets not available; call the top-k overlay code manually.')"
   ]
  },
  {
   "cell_type": "code",
   "execution_count": null,
   "metadata": {},
   "outputs": [],
   "source": [
    "# Interactive visualization of each component\n",
    "if widgets is not None:\n",
    "    component_selector = widgets.IntSlider(value=1, min=1, max=n_components, step=1, description='component')\n",
    "    def show_component(k=4):\n",
    "        # Find the first k principal components and multiply them with the corresponding latent variables\n",
    "        #contrib = np.dot(z[airfoil_id,:k], components_[:k,:])+ estimator.mean_\n",
    "        plt.figure(figsize=(6,5))\n",
    "        selected_component = components_[k-1,:]+ estimator.mean_\n",
    "        plt.plot(make_airfoil(selected_component)[:,0], make_airfoil(selected_component)[:,1], label='Component', alpha=1.0)\n",
    "        plt.axis('equal')\n",
    "        plt.title(f'Component {k}')\n",
    "        plt.xlim(-0.6,0.6)\n",
    "        plt.show()\n",
    "    display(widgets.VBox([component_selector, widgets.interactive_output(show_component, {'k': component_selector})]))\n",
    "else:\n",
    "    print('ipywidgets not available; call the top-k overlay code manually.')"
   ]
  },
  {
   "cell_type": "markdown",
   "metadata": {},
   "source": [
    "## Sparse PCA\n",
    "\n",
    "Sparse PCA encourages components that have many zeros, which can make the learned components easier to interpret as localized shape features. Below we fit a SparsePCA model and visualize a small set of sparse components and their effect on reconstructing an example airfoil."
   ]
  },
  {
   "cell_type": "markdown",
   "metadata": {},
   "source": [
    "Mathematically, Sparse PCA augments a PCA-style reconstruction loss with an L1 penalty on the (unconstrained) components to encourage sparsity. A common optimization is:\n",
    "\n",
    "$$\\min_{Z,W}\\;\\|X - ZW\\|_{F}^{2} + \\alpha\\|W\\|_{1}\\quad\\text{s.t. }\\|Z_{i}\\|_{2}^{2}\\le 1\\;\\forall i,\\,$$\n",
    "\n",
    "where $W \\in R^{k×d}$ holds the component vectors (rows), $Z \\in R^{n×k}$ are the codes, and $\\alpha>0$ controls sparsity. Different implementations (e.g., the sklearn SparsePCA) solve related objectives (sometimes using a LASSO subproblem or elastic-net style updates).\n",
    "\n",
    "Notes:\n",
    "\n",
    "- The L1 term on W encourages many component weights to be exactly zero, producing localized/part-like components.\n",
    "- In practice one often also adds a small L2 (ridge) term to stabilize optimization (an elastic-net variant)."
   ]
  },
  {
   "cell_type": "code",
   "execution_count": null,
   "metadata": {},
   "outputs": [],
   "source": [
    "#| code-fold: false\n",
    "from sklearn.decomposition import SparsePCA\n",
    "\n",
    "#### Try Changing both n_components and alpha  ########\n",
    "n_components = 12\n",
    "# Warning: setting alpha too low will take the algorithm a long time to converge\n",
    "alpha = 0.01\n",
    "##########################\n",
    "spca = SparsePCA(n_components=n_components, alpha=alpha, random_state=42)\n",
    "# fit on the flattened data matrix 'data' used above\n",
    "spca.fit(data)\n",
    "W_sp = spca.components_\n",
    "Z_sp = spca.transform(data)\n"
   ]
  },
  {
   "cell_type": "markdown",
   "metadata": {},
   "source": [
    "Now let's take a look at what the Sparse PCA model has learned and how it reconstructs the example airfoil differently than vanilla PCA:"
   ]
  },
  {
   "cell_type": "code",
   "execution_count": null,
   "metadata": {},
   "outputs": [],
   "source": [
    "# Component heatmap (components x features)\n",
    "plt.figure(figsize=(10,4))\n",
    "plt.imshow(reorder_indices(W_sp), aspect='auto', cmap='RdBu_r', interpolation='nearest',\n",
    "           norm=TwoSlopeNorm(vmin=W_sp.min(), vcenter=0, vmax=W_sp.max()))\n",
    "plt.colorbar(label='weight')\n",
    "plt.ylabel(f\"Latent index ($k \\\\in {W_sp.shape[0]}$)\")\n",
    "plt.xlabel(f\"Feature index ($d \\\\in {W_sp.shape[1]}$)\")\n",
    "plt.title('SparsePCA component weights (components x features)')\n",
    "plt.show()\n",
    "\n",
    "# Latent Coordinate heatmap\n",
    "plt.figure(figsize=(10,4))\n",
    "plt.imshow(Z_sp, aspect='auto', cmap='RdBu_r', interpolation='nearest',\n",
    "           norm=TwoSlopeNorm(vmin=Z_sp.min(), vcenter=0, vmax=Z_sp.max()))\n",
    "plt.colorbar(label='weight')\n",
    "plt.xlabel(f\"Latent index ($k \\\\in {Z_sp.shape[1]}$)\")\n",
    "plt.ylabel(f\"Data Point index ($n \\\\in {Z_sp.shape[0]}$)\")\n",
    "plt.title('Latent codes for each Data Point')\n",
    "plt.show()\n",
    "\n",
    "# Now let's try reconstructing an airfoil from the trained model\n",
    "# Pull out the latent representation of this airfoil ID\n",
    "z = Z_sp[airfoil_id]\n",
    "x_hat = spca.inverse_transform(z.reshape(-1, 1).T)\n",
    "# Alternatively, we could do the following manual reconstruction:\n",
    "#x_hat = np.dot(z, W_sp) + data.mean(axis=0)\n",
    "\n",
    "# Interactive visualization of each component\n",
    "if widgets is not None:\n",
    "    component_selector = widgets.IntSlider(value=1, min=1, max=n_components, step=1, description='component')\n",
    "    def show_component(k=4):\n",
    "        # Find the first k principal components and multiply them with the corresponding latent variables\n",
    "        #contrib = np.dot(z[airfoil_id,:k], components_[:k,:])+ estimator.mean_\n",
    "        plt.figure(figsize=(6,5))\n",
    "        selected_component = W_sp[k-1,:] + data.mean(axis=0)\n",
    "        plt.plot(make_airfoil(selected_component)[:,0], make_airfoil(selected_component)[:,1], label='Component', alpha=1.0)\n",
    "        plt.axis('equal')\n",
    "        plt.title(f'Component {k}')\n",
    "        #plt.legend()\n",
    "        plt.xlim(-0.6,0.6)\n",
    "        #plt.ylim(-0.4,0.4)\n",
    "        plt.show()\n",
    "    display(widgets.VBox([component_selector, widgets.interactive_output(show_component, {'k': component_selector})]))\n",
    "else:\n",
    "    print('ipywidgets not available; call the top-k overlay code manually.')\n",
    "\n",
    "# Interactive top-k overlay for contribution\n",
    "if widgets is not None:\n",
    "    top_k_slider = widgets.IntSlider(value=4, min=1, max=n_components, step=1, description='top_k')\n",
    "    def show_topk(k=4):\n",
    "        top_idx = np.argsort(np.abs(z))[::-1][:k]\n",
    "        contrib = np.sum(z[top_idx][:,None] * W_sp[top_idx], axis=0)\n",
    "        plt.figure(figsize=(6,3))\n",
    "        plt.plot(make_airfoil(data[airfoil_id])[:,0], make_airfoil(data[airfoil_id])[:,1], label='Original', alpha=0.6)\n",
    "        plt.plot(make_airfoil(contrib + data.mean(axis=0))[:,0], make_airfoil(contrib + data.mean(axis=0))[:,1], label='Top-k contribution', color='C3')\n",
    "        plt.plot(make_airfoil(data.mean(axis=0))[:,0], make_airfoil(data.mean(axis=0))[:,1], '--', color='g', label='Mean')\n",
    "        plt.axis('equal')\n",
    "        plt.title(f'Top-{k} component contributions (overlay)')\n",
    "        plt.legend()\n",
    "        plt.show()\n",
    "    display(widgets.VBox([top_k_slider, widgets.interactive_output(show_topk, {'k': top_k_slider})]))\n",
    "else:\n",
    "    print('ipywidgets not available; call the top-k overlay code manually.')"
   ]
  },
  {
   "cell_type": "markdown",
   "metadata": {},
   "source": [
    "::: {.callout-tip appearance=\"default\"}\n",
    "### Experiment: Comparison between PCA and SparsePCA\n",
    "Compare both the component weight matrix and the reconstruction of a single airfoil when we used PCA and SparsePCA.\n",
    "\n",
    "Consider the following questions:\n",
    "\n",
    "- What are the main differences in the component weights between PCA and SparsePCA? How does the addition of the L1 penalty within SparsePCA manifest itself in the weight matrix? How does this manifest itself in the learned components, either individually or as we add them up during reconstruction?\n",
    "- Also compare the latent codes $Z$ between PCA and SparsePCA. How do they differ? What does this tell you about how the data is represented in the latent space? How about which components are most important?\n",
    "- For SparsePCA, how does changing the value of the sparsity parameter $\\alpha$ affect the learned components and reconstruction? What happens when we increase or decrease $\\alpha$? Look at both the weight matrix and the components.\n",
    "- If you set $\\alpha$ very low (e.g., 0.001) and increase the number of components, how does the result compare to vanilla PCA with the same number of components? What would you expect to happen, comparing the loss functions? Why are they different?\n",
    "- Under what practical circumstances or for what types of problems might SparsePCA be preferred over PCA and vice versa?\n",
    "\n",
    ":::"
   ]
  },
  {
   "cell_type": "markdown",
   "metadata": {},
   "source": [
    "## Dictionary Learning\n",
    "\n",
    "Dictionary learning finds a set of atoms (basis elements) and sparse codes that reconstruct the data. This is useful when localized, part-based representations are desirable. Essentially, unlike Sparse PCA (which adds an L1 penalty to the components), dictionary learning adds an L1 penalty to the codes. Below we fit a Dictionary Learning model and visualize a small set of learned atoms and their effect on reconstructing an example airfoil."
   ]
  },
  {
   "cell_type": "markdown",
   "metadata": {},
   "source": [
    "\n",
    "\n",
    "Mathematically, Dictionary learning (sparse coding) models X as the product of a dictionary $W \\in R^{k×d}$ (atoms) and sparse codes $Z \\in R^{n×k}$:\n",
    "\n",
    "$$\n",
    "\\min_{Z,W}\\;\\|X - Z W\\|_{F}^{2} + \\alpha\\|Z\\|_{1} \\,\\quad\\text{s.t. }\\|W_{j}\\|_{2}\\le 1\\; \\forall j.\n",
    "$$ \n",
    "\n",
    "Here Z contains the sparse coefficients for each example and $\\alpha>0$ controls the sparsity of the codes. The constraint on $W$ prevents trivial scaling to reduce the penalty term (i.e., just pulling weight into W and shrinking Z). Intuitively, each data point is reconstructed as a *sparse* linear combination of dictionary atoms, essentially selecting a few \"parts\" (where the parts are elements of $W$) to compose the whole as a weighted sum.\n",
    "\n",
    "Notes:\n",
    "\n",
    "- The L1 penalty acts on the coefficients (Z) rather than $W$ to encourage sparse usage of dictionary elements.\n",
    "- Many algorithms alternate between solving for Z (a LASSO-type problem) and updating W (a constrained least-squares step)."
   ]
  },
  {
   "cell_type": "code",
   "execution_count": null,
   "metadata": {},
   "outputs": [],
   "source": [
    "#| code-fold: false\n",
    "# Warning, running this particular cell takes a long time as the sklearn implementation \n",
    "# is not particularly fast. (~4-8 mins)\n",
    "from sklearn.decomposition import DictionaryLearning\n",
    "# Alternatively, you can use the MiniBatchDictionaryLearning which is faster, but less accurate or stable:\n",
    "#from sklearn.decomposition import MiniBatchDictionaryLearning as DictionaryLearning\n",
    "\n",
    "\n",
    "### Try changing n_components and alpha ########\n",
    "n_components = 10\n",
    "alpha = 0.1\n",
    "##########################\n",
    "\n",
    "DL = DictionaryLearning(n_components=n_components, alpha=alpha, random_state=42)\n",
    "Z_dl = DL.fit_transform(data)\n",
    "W_dl = DL.components_\n"
   ]
  },
  {
   "cell_type": "code",
   "execution_count": null,
   "metadata": {},
   "outputs": [],
   "source": [
    "# Visualize first few atoms\n",
    "plt.figure(figsize=(12,6))\n",
    "for i in range(n_components):\n",
    "    plt.subplot(4,6,i+1)\n",
    "    xy = make_airfoil(W_dl[i])\n",
    "    plt.plot(xy[:,0], xy[:,1], lw=1)\n",
    "    plt.xlabel('x')\n",
    "    plt.ylabel('y')\n",
    "    plt.title(f'Atom {i}')\n",
    "    plt.axis('equal')\n",
    "    plt.xticks([])\n",
    "    plt.yticks([])\n",
    "plt.suptitle(f'Dictionary atoms (n={n_components}, alpha={alpha})')\n",
    "plt.show()\n",
    "\n",
    "# Component heatmap\n",
    "plt.figure(figsize=(10,4))\n",
    "plt.imshow(reorder_indices(W_dl), aspect='auto', cmap='RdBu_r', interpolation='nearest',\n",
    "           norm=TwoSlopeNorm(vmin=W_dl.min(), vcenter=0, vmax=W_dl.max()))\n",
    "plt.colorbar(label='weight')\n",
    "plt.ylabel(f\"Latent index ($k \\\\in {n_components}$)\")\n",
    "plt.xlabel(f\"Feature index ($d \\\\in {W_dl.shape[1]}$)\")\n",
    "plt.title('Dictionary of Features (aka Component weights)')\n",
    "plt.show()\n",
    "\n",
    "# Latent Coordinate heatmap\n",
    "plt.figure(figsize=(10,4))\n",
    "plt.imshow(Z_dl, aspect='auto', cmap='RdBu_r', interpolation='nearest',\n",
    "           norm=TwoSlopeNorm(vmin=Z_dl.min(), vcenter=0, vmax=Z_dl.max()))\n",
    "plt.colorbar(label='weight')\n",
    "plt.xlabel(f\"Latent index ($k \\\\in {n_components}$)\")\n",
    "plt.ylabel(f\"Data Point index ($n \\\\in {Z_dl.shape[0]}$)\")\n",
    "plt.title('Latent codes for each Data Point')\n",
    "plt.show()\n",
    "\n",
    "# Reconstruction an airfoil using the learned codes\n",
    "x_hat = np.dot(Z_dl[airfoil_id], W_dl)\n",
    "plt.figure(figsize=(6,3))\n",
    "plt.plot(make_airfoil(data[airfoil_id])[:,0], make_airfoil(data[airfoil_id])[:,1], label='Original', alpha=0.6)\n",
    "plt.plot(make_airfoil(x_hat)[:,0], make_airfoil(x_hat)[:,1], label='Reconstruction', color='C3')\n",
    "plt.plot(make_airfoil(data.mean(axis=0))[:,0], make_airfoil(data.mean(axis=0))[:,1], '--', color='g', label='Mean')\n",
    "plt.axis('equal')\n",
    "plt.title('Comparison of Original and Reconstructed Airfoil')\n",
    "plt.legend()\n",
    "plt.show()\n",
    "\n",
    "# Interactive top-k atoms display\n",
    "if widgets is not None:\n",
    "    top_k_slider = widgets.IntSlider(value=6, min=1, max=n_components, step=1, description='top_k')\n",
    "    def show_top_atoms(k=6):\n",
    "        top_idx = np.argsort(np.abs(Z_dl[airfoil_id]))[::-1][:k]\n",
    "        plt.figure(figsize=(8,4))\n",
    "        for i, idx in enumerate(top_idx):\n",
    "            plt.subplot(1,k,i+1)\n",
    "            plt.plot(make_airfoil(W_dl[idx])[:,0], make_airfoil(W_dl[idx])[:,1])\n",
    "            plt.axis('equal')\n",
    "            plt.title(f'atom {idx}')\n",
    "            plt.xticks([])\n",
    "            plt.yticks([])\n",
    "        plt.suptitle('Top atoms used for this example')\n",
    "        plt.show()\n",
    "    display(widgets.VBox([top_k_slider, widgets.interactive_output(show_top_atoms, {'k': top_k_slider})]))\n",
    "else:\n",
    "    print('ipywidgets not available; call the top-k overlay code manually.')\n",
    "\n",
    "# Interactive top-k overlay for contribution\n",
    "if widgets is not None:\n",
    "    top_k_slider = widgets.IntSlider(value=4, min=1, max=8, step=1, description='top_k')\n",
    "    def show_topk(k=4):\n",
    "        top_idx = np.argsort(np.abs(Z_dl[airfoil_id]))[::-1][:k]\n",
    "        #contrib = np.sum(z[top_idx][:,None] * W_sp[top_idx], axis=0)\n",
    "        contrib = np.sum(Z_dl[airfoil_id,top_idx][:,None] * W_dl[top_idx], axis=0)\n",
    "        plt.figure(figsize=(6,3))\n",
    "        plt.plot(make_airfoil(data[airfoil_id])[:,0], make_airfoil(data[airfoil_id])[:,1], label='Original', alpha=0.6)\n",
    "        #plt.plot(make_airfoil(contrib + data.mean(axis=0))[:,0], make_airfoil(contrib + data.mean(axis=0))[:,1], label='Top-k contribution', color='C3')\n",
    "        plt.plot(make_airfoil(contrib)[:,0], make_airfoil(contrib)[:,1], label='Top-k contribution', color='C3')\n",
    "        plt.plot(make_airfoil(data.mean(axis=0))[:,0], make_airfoil(data.mean(axis=0))[:,1], '--', color='g', label='Mean')\n",
    "        plt.axis('equal')\n",
    "        plt.title(f'Top-{k} component contributions (overlay)')\n",
    "        plt.legend()\n",
    "        plt.show()\n",
    "    display(widgets.VBox([top_k_slider, widgets.interactive_output(show_topk, {'k': top_k_slider})]))\n",
    "else:\n",
    "    print('ipywidgets not available; call the top-k overlay code manually.')\n",
    "\n",
    "# Show sparsity level of codes\n",
    "sparsity = np.mean(np.abs(Z_dl) < 1e-6)\n",
    "print(f'Average fraction of near-zero coefficients: {sparsity:.3f}')"
   ]
  },
  {
   "cell_type": "markdown",
   "metadata": {},
   "source": [
    "::: {.callout-tip appearance=\"default\"}\n",
    "### Experiment: Comparison between Dictionary Learning (Sparse Coding) and SparsePCA\n",
    "Compare both the component weight matrix and the reconstruction of a single airfoil when we used Sparse PCA and Dictionary Learning (Sparse Coding).\n",
    "\n",
    "Consider the following questions:\n",
    "\n",
    "- Both algorithms use the same sparsity penalty (L1), but on different matrices. How does this difference manifest itself in the learned components and reconstructions? What happens to the component weights versus the latent codes?\n",
    "- For Dictionary Learning, how does changing the value of the sparsity parameter $\\alpha$ affect the learned components and reconstruction? What happens when we increase or decrease $\\alpha$? Look at both the weight matrix and the components.\n",
    "- Under what practical circumstances or for what types of problems might Dictionary Learning (Sparse Coding) be preferred over PCA and Sparse PCA, and vice versa?\n",
    "\n",
    ":::"
   ]
  },
  {
   "cell_type": "markdown",
   "metadata": {},
   "source": [
    "## Non-Negative Matrix Factorization (NMF)\n",
    "\n",
    "NMF constrains both the basis elements and coefficients to be non-negative. This often yields parts-based, additive representations which can be intuitive for shape components under certain circumstances."
   ]
  },
  {
   "cell_type": "markdown",
   "metadata": {},
   "source": [
    "Mathematically, Non-negative matrix factorization approximates $X$ (with $X\\gt 0$ after shift) as the product of non-negative factors $W\\in R^{n×k}_{+}$ and $H \\in R^{k×d}_{+}$ by minimizing reconstruction error under non-negativity constraints:\n",
    "\n",
    "$$\\min_{W\\ge 0,H\\ge 0}\\;\\|X - Z W\\|_{F}^{2} + \\beta_Z\\|Z\\|_{1} + \\beta_W\\|W\\|_{1} + \\alpha_Z\\|Z\\|^{2}_{F} + \\alpha_W\\|W\\|^{2}_{F},$$\n",
    "\n",
    "where optional L1 penalties ($\\beta_Z$, $\\beta_W \\ge 0$) encourage sparse parts or sparse activations, and L2 penalties ($\\alpha_Z$, $\\alpha_W \\ge 0$) encourage stability or shrinkage. The essential constraint is $W,Z \\ge 0$ which induces additive, parts-based representations.\n",
    "\n",
    "Notes:\n",
    "\n",
    "- In this notebook we shift data by the minimum to ensure $X \\ge 0$ before fitting and then undo the shift when plotting reconstructions.\n",
    "- Typical solvers use multiplicative updates or alternating non-negative least squares; regularization (L1 or L2) can be added to encourage sparsity or stability."
   ]
  },
  {
   "cell_type": "code",
   "execution_count": null,
   "metadata": {},
   "outputs": [],
   "source": [
    "#| code-fold: false\n",
    "from sklearn.decomposition import NMF\n",
    "\n",
    "#### Try changing n_components ########\n",
    "n_components = 14\n",
    "# This is the L2 penalty on the components\n",
    "alpha_W  = 0.001\n",
    "# This is the L1 ratio on the components (between 0 and 1)\n",
    "# Set to 0 for pure L2, 1 for pure L1, and in between for a mix\n",
    "l1_ratio = 0.001\n",
    "##########################\n",
    "\n",
    "# NMF needs non-negative data. We'll shift by the min and remember the offset.\n",
    "shift = data.min()\n",
    "Xpos = data - shift + 1e-6\n",
    "\n",
    "nmf = NMF(n_components=n_components, init='nndsvda', random_state=42, max_iter=5000,\n",
    "          alpha_W = alpha_W, l1_ratio=l1_ratio)\n",
    "Z_nmf = nmf.fit_transform(Xpos)\n",
    "W_nmf = nmf.components_\n"
   ]
  },
  {
   "cell_type": "code",
   "execution_count": null,
   "metadata": {},
   "outputs": [],
   "source": [
    "# Visualize NMF components (H) as parts\n",
    "plt.figure(figsize=(12,4))\n",
    "for i in range(n_components):\n",
    "    plt.subplot(2, n_components//2, i+1)\n",
    "    xy = make_airfoil(W_nmf[i])\n",
    "    plt.plot(xy[:,0], xy[:,1], lw=1)\n",
    "    plt.xlabel('x')\n",
    "    plt.ylabel('y')\n",
    "    plt.axis('equal')\n",
    "    plt.title(f'Part {i}')\n",
    "    plt.xticks([])\n",
    "    plt.yticks([])\n",
    "plt.suptitle('NMF learned parts (components)')\n",
    "plt.show()\n",
    "\n",
    "# Component heatmap\n",
    "plt.figure(figsize=(10,4))\n",
    "plt.imshow(reorder_indices(W_nmf), aspect='auto', cmap='Reds', interpolation='nearest')\n",
    "plt.colorbar(label='weight')\n",
    "plt.xlabel('feature index')\n",
    "plt.ylabel('part index')\n",
    "plt.title('NMF part weights (parts x features)')\n",
    "plt.show()\n",
    "\n",
    "# Latent Coordinate heatmap\n",
    "plt.figure(figsize=(10,4))\n",
    "plt.imshow(Z_nmf, aspect='auto', cmap='Reds', interpolation='nearest')\n",
    "plt.colorbar(label='weight')\n",
    "plt.xlabel(f\"Latent index ($k \\\\in {Z_nmf.shape[1]}$)\")\n",
    "plt.ylabel(f\"Data Point index ($n \\\\in {Z_nmf.shape[0]}$)\")\n",
    "plt.title('Latent codes for each Data Point')\n",
    "plt.show()\n",
    "\n",
    "# Reconstruction the airfoil using W @ H\n",
    "x_hat_pos = np.dot(Z_nmf[airfoil_id], W_nmf)\n",
    "# undo the shift to bring back to original centered data\n",
    "x_hat = x_hat_pos + shift - 1e-6\n",
    "mean_airfoil = make_airfoil(data.mean(axis=0))\n",
    "\n",
    "# Use plot_reconstruction helper for consistent display; but NMF uses shifted data so show overlay manually\n",
    "plt.figure(figsize=(6,3))\n",
    "#plt.subplot(1,2,1)\n",
    "plt.plot(make_airfoil(data[airfoil_id])[:,0], make_airfoil(data[airfoil_id])[:,1], label='Original')\n",
    "plt.plot(mean_airfoil[:,0], mean_airfoil[:,1], color='g', label='Mean')\n",
    "plt.plot(make_airfoil(x_hat)[:,0], make_airfoil(x_hat)[:,1], label='Reconstructed')\n",
    "plt.title('Original')\n",
    "plt.axis('equal')\n",
    "plt.legend()\n",
    "plt.show()\n",
    "\n",
    "# Interactive top-k parts\n",
    "if widgets is not None:\n",
    "    top_k_slider = widgets.IntSlider(value=6, min=1, max=n_components, step=1, description='top_k')\n",
    "    def show_top_parts(k=6):\n",
    "        top_idx = np.argsort(Z_nmf[airfoil_id])[::-1][:k]\n",
    "        plt.figure(figsize=(8,3))\n",
    "        for i, idx in enumerate(top_idx):\n",
    "            plt.subplot(1,k,i+1)\n",
    "            plt.plot(make_airfoil(W_nmf[idx])[:,0], make_airfoil(W_nmf[idx])[:,1])\n",
    "            plt.axis('equal')\n",
    "            plt.title(f'part {idx}')\n",
    "            plt.xlim(-0.1,0.6)\n",
    "            plt.xticks([])\n",
    "            plt.yticks([])\n",
    "        plt.suptitle('Top parts used for this example')\n",
    "        plt.show()\n",
    "    display(widgets.VBox([top_k_slider, widgets.interactive_output(show_top_parts, {'k': top_k_slider})]))\n",
    "else:\n",
    "    print('ipywidgets not available; call the top-k overlay code manually')\n",
    "\n",
    "# Interactive top-k overlay for contribution\n",
    "if widgets is not None:\n",
    "    top_k_slider = widgets.IntSlider(value=4, min=1, max=14, step=1, description='top_k')\n",
    "    def show_topk(k=4):\n",
    "        top_idx = np.argsort(np.abs(Z_nmf[airfoil_id]))[::-1][:k]\n",
    "        contrib = np.sum(Z_nmf[airfoil_id,top_idx][:,None] * W_nmf[top_idx], axis=0)\n",
    "        plt.figure(figsize=(6,3))\n",
    "        plt.plot(make_airfoil(data[airfoil_id])[:,0], make_airfoil(data[airfoil_id])[:,1], label='Original', alpha=0.6)\n",
    "        #plt.plot(make_airfoil(contrib + data.mean(axis=0))[:,0], make_airfoil(contrib + data.mean(axis=0))[:,1], label='Top-k contribution', color='C3')\n",
    "        plt.plot(make_airfoil(contrib+shift)[:,0], make_airfoil(contrib+shift)[:,1], label='Top-k contribution', color='C3')\n",
    "        plt.plot(make_airfoil(data.mean(axis=0))[:,0], make_airfoil(data.mean(axis=0))[:,1], '--', color='g', label='Mean')\n",
    "        plt.axis('equal')\n",
    "        plt.title(f'Top-{k} component contributions (overlay)')\n",
    "        plt.legend()\n",
    "        plt.show()\n",
    "    display(widgets.VBox([top_k_slider, widgets.interactive_output(show_topk, {'k': top_k_slider})]))\n",
    "else:\n",
    "    print('ipywidgets not available; call the top-k overlay code manually.')\n",
    "\n",
    "print(f'Explained variance (approx): {1 - np.linalg.norm(Xpos - Z_nmf.dot(W_nmf)) / np.linalg.norm(Xpos):.3f}')"
   ]
  },
  {
   "cell_type": "markdown",
   "metadata": {},
   "source": [
    "## Model Comparison\n",
    "\n",
    "Finally, let's compare the different models side-by-side. We will visualize the two two learned projections of the data into the latent space, as well as the component reconstruction matrix that translates those components back into the original feature space, and lastly the mapping of all data points to all latent coordinates. This is similar to plots you have seen before, but it is nice to see them all together for comparison."
   ]
  },
  {
   "cell_type": "code",
   "execution_count": null,
   "metadata": {},
   "outputs": [],
   "source": [
    "# Comparison: first-two latent projections and component heatmaps for each method\n",
    "from sklearn.decomposition import PCA\n",
    "\n",
    "models_info = {}\n",
    "# PCA (reuse estimator from above if present, otherwise fit)\n",
    "pca = PCA(n_components=8, random_state=42)\n",
    "Z_pca = pca.fit_transform(data)\n",
    "models_info['PCA'] = {'Z': Z_pca, 'components': pca.components_}\n",
    "\n",
    "# SparsePCA (use Z_sp, W_sp computed earlier)\n",
    "models_info['SparsePCA'] = {'Z': Z_sp, 'components': W_sp}\n",
    "\n",
    "# DictionaryLearning: use W as Z and H as components\n",
    "models_info['DictionaryLearning'] = {'Z': Z_dl, 'components': W_dl}\n",
    "\n",
    "# NMF: use W as Z (already non-negative)\n",
    "models_info['NMF'] = {'Z': Z_nmf, 'components': W_nmf}\n",
    "\n",
    "# Plot the first-two latent projections\n",
    "plt.figure(figsize=(10,8))\n",
    "for i, (name, info) in enumerate(models_info.items()):\n",
    "    plt.subplot(2,2,i+1)\n",
    "    Z = info['Z']\n",
    "    plt.scatter(Z[:,0], Z[:,1], alpha=0.2, s=8)\n",
    "    plt.xlabel('Latent dim 1')\n",
    "    plt.ylabel('Latent dim 2')\n",
    "    plt.title(f'{name} projection (first two dims)')\n",
    "plt.tight_layout()\n",
    "plt.show()\n",
    "\n",
    "# Plot heatmaps of component/weight matrices (showing first 120 features for clarity)\n",
    "plt.figure(figsize=(12,8))\n",
    "for i, (name, info) in enumerate(models_info.items()):\n",
    "    comps = info['components']\n",
    "    # ensure comps is (n_components, n_features)\n",
    "    if comps.ndim == 1:\n",
    "        comps = comps[None, :]\n",
    "    plt.subplot(4,1,i+1)\n",
    "    if np.any(comps < 0):\n",
    "        plt.imshow(reorder_indices(comps), aspect='auto', cmap='RdBu_r', interpolation='nearest',\n",
    "                   norm=TwoSlopeNorm(vmin=comps.min(), vcenter=0, vmax=comps.max()))\n",
    "    else:\n",
    "        plt.imshow(reorder_indices(comps), aspect='auto', cmap='Reds', interpolation='nearest')\n",
    "    plt.colorbar()\n",
    "    plt.title(f'{name} components (components x features)')\n",
    "    plt.ylabel('component')\n",
    "plt.tight_layout()\n",
    "plt.show()\n",
    "\n",
    "# Plot heatmaps of component/weight matrices (showing first 120 features for clarity)\n",
    "plt.figure(figsize=(12,8))\n",
    "for i, (name, info) in enumerate(models_info.items()):\n",
    "    Z_map = info['Z']\n",
    "    # ensure comps is (n_components, n_features)\n",
    "    if Z_map.ndim == 1:\n",
    "        Z_map = Z_map[None, :]\n",
    "    plt.subplot(4,1,i+1)\n",
    "    if np.any(Z_map < 0):\n",
    "        plt.imshow(Z_map, aspect='auto', cmap='RdBu_r', interpolation='nearest',\n",
    "                   norm=TwoSlopeNorm(vmin=Z_map.min(), vcenter=0, vmax=Z_map.max()))\n",
    "    else:\n",
    "        plt.imshow(Z_map, aspect='auto', cmap='Reds', interpolation='nearest')\n",
    "    plt.colorbar()\n",
    "    plt.title(f'{name} components (components x features)')\n",
    "    plt.ylabel('component')\n",
    "plt.tight_layout()\n",
    "plt.show()"
   ]
  }
 ],
 "metadata": {
  "kernelspec": {
   "display_name": "ml4me-student",
   "language": "python",
   "name": "python3"
  },
  "language_info": {
   "codemirror_mode": {
    "name": "ipython",
    "version": 3
   },
   "file_extension": ".py",
   "mimetype": "text/x-python",
   "name": "python",
   "nbconvert_exporter": "python",
   "pygments_lexer": "ipython3",
   "version": "3.11.8"
  },
  "varInspector": {
   "cols": {
    "lenName": 16,
    "lenType": 16,
    "lenVar": 40
   },
   "kernels_config": {
    "python": {
     "delete_cmd_postfix": "",
     "delete_cmd_prefix": "del ",
     "library": "var_list.py",
     "varRefreshCmd": "print(var_dic_list())"
    },
    "r": {
     "delete_cmd_postfix": ") ",
     "delete_cmd_prefix": "rm(",
     "library": "var_list.r",
     "varRefreshCmd": "cat(var_dic_list()) "
    }
   },
   "types_to_exclude": [
    "module",
    "function",
    "builtin_function_or_method",
    "instance",
    "_Feature"
   ],
   "window_display": false
  }
 },
 "nbformat": 4,
 "nbformat_minor": 4
}
