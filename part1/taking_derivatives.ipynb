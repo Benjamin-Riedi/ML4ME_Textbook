{
 "cells": [
  {
   "cell_type": "raw",
   "id": "0",
   "metadata": {
    "vscode": {
     "languageId": "raw"
    }
   },
   "source": [
    "---\n",
    "title: Taking Derivatives with Automatic Differentiation\n",
    "author: Mark Fuge\n",
    "date: 'October 1 2025'\n",
    "format:\n",
    "    html:\n",
    "        code-fold: false\n",
    "---"
   ]
  },
  {
   "cell_type": "markdown",
   "id": "1",
   "metadata": {},
   "source": [
    "Taking derivatives with respect to functions or parameters is one of the most common and fundamental operations that we will need for Machine Learning (and in fact for Scientific Computing, in general). Throughout your life so far, you have probably learned about three main ways to compute derivatives:\n",
    "\n",
    "1. **Analytical Differentiation**: computing the analytical derivative manually using the rules of calculus and pencil and paper. The benefit of this approach is that it is exact, but the drawback is that it can be tedious, manual, and error-prone for complex functions. Once completed, we get a function that has the exact derivative everywhere.\n",
    "2. **Symbolic Differentiation**: using a computer algebra system (CAS) to compute the analytical derivative symbolically. The main benefit of this approach is that it is exact and can handle more complex functions than manual differentiation, but the drawback is that it can be slow and may produce very complicated expressions that are difficult to evaluate numerically (a phenomenon known as *expression swell*). This method also produces a function that has the exact derivative everywhere as a single (often very large) function.\n",
    "3. **Numerical Differentiation**: using finite difference approximations to compute the derivative numerically, for example using the formula $\\frac{df}{dx} \\approx \\frac{f(x+h) - f(x)}{h}$ for some small $h$. The main benefit of this approach is that it is easy to implement and can handle any function that can be evaluated numerically, but its drawbacks are that it only approximates the derivative, can be sensitive to the choice of $h$, suffers from numerical precision issues, and only provides the derivative at a single evaluated point (unlike analytical or symbolic approaches that produce a function of the derivative that is valid everywhere).\n",
    "\n",
    "This chapter won't cover those approaches in detail, as its main goal is to introduce you to a fourth way to compute derivatives called *Automatic Differentiation* (AD). This approach inherits some of the benefits of analytical and symbolic differentiation, in that it computes *exact* derivatives (unlike numerical differentiation). It's main drawback is that the effort used to compute the derivatives will be only useful for a single evaluation point (similar to numerical differentiation). Unlike symbolic differentiation, AD is very efficient and does not suffer from expression swell, although it does require extra bookkeeping to keep track of intermediate values and derivatives (as we will see), which can add some memory and computational overhead.\n",
    "\n",
    "| Method                     | Benefits                                                                 | Drawbacks                                                                 |\n",
    "|----------------------------|--------------------------------------------------------------------------|---------------------------------------------------------------------------|\n",
    "| Analytical Differentiation  | Exact derivatives, valid everywhere                                    | Tedious, manual, error-prone for complex functions                       |\n",
    "| Symbolic Differentiation    | Exact derivatives, can handle complex functions                         | Slow, may produce complicated expressions (expression swell)            |\n",
    "| Numerical Differentiation   | Easy to implement, handles any numerically evaluable function          | Only approximates derivative, sensitive to $h$, precision issues, pointwise |\n",
    "| Automatic Differentiation   | Exact derivatives, efficient computation                               | More complex implementation, potential overhead                        |\n",
    "\n",
    ": Overview of different methods for computing derivatives.\n",
    "\n",
    "With this overview in mind, we can now introduce Automatic Differentiation using a simple example, and then later demonstrate how to use it via some practical examples.\n",
    "\n",
    "## Automatic Differentiation\n",
    "\n",
    "To demonstrate how Automatic Differentiation works, let's take a simple example function, for which we can easily compute the derivatives manually/analytically, so that we can check out results. Let's consider the function: \n",
    "\n",
    "$$\n",
    "f(x_1, x_2) = \\ln(x_1) + x_1 \\cdot x_2 - \\sin(x_2)\n",
    "$$  \n",
    "\n",
    "evaluated at $x_1 = 2, x_2 = 5$.\n",
    "\n",
    "Analytically, this function is simple enough that we could actually compute the partial derivatives manually:\n",
    "$$\\frac{\\partial y}{\\partial x_0} = \\frac{1}{x_0} + x_1 = 0.5 + 5 = 5.5$$\n",
    "\n",
    "$$\\frac{\\partial y}{\\partial x_1} = x_0 - cos(x_1) = 2 - 0.284 = 1.716$$\n",
    "\n",
    "However, for the sake of this example, we will use Automatic Differentiation to compute these derivatives instead. The first step of Automatic Differentiation is to build up a *Computational Graph* of the function using a library of easy to compute derivatives (e.g., $\\frac{\\partial}{\\partial x} x^n \\rightarrow n\\cdot x^{n-1}$)\n",
    "\n",
    "### Build the Computational Graph\n",
    "\n",
    "To build the computational graph, we break the function down into its elementary operations step by step, starting from the beginning (i.e., the inputs to the function). We will introduce intermediate variables ($V_\\#$) to represent the outputs of these intermediate operations. Let's define:\n",
    "\n",
    "\n",
    "```{mermaid}\n",
    "graph LR\n",
    "    %% Input nodes\n",
    "    V0((V0 = x1))\n",
    "    V1((V1 = x2))\n",
    "    %% Intermediate nodes\n",
    "    V2((V2 = ln V0))\n",
    "    V3((V3 = V0 x V1))\n",
    "    V4((V4 = -sin V1))\n",
    "    V5((V5 = V2 + V3))\n",
    "    V6((V6 = V5 + V4 = f))\n",
    "\n",
    "    %% Operations\n",
    "    V0 --> V2\n",
    "    V0 --> V3\n",
    "    V1 --> V3\n",
    "    V1 --> V4\n",
    "\n",
    "    %% Sum nodes\n",
    "    V2 --> V5\n",
    "    V3 --> V5\n",
    "    V5 --> V6\n",
    "    V4 --> V6\n",
    "```\n",
    "\n",
    "Now with the graph in place, we can compute the first stage of Automatic Differentiation, which is the *forward pass* through the function.\n",
    "\n",
    "### Compute the Forward Pass\n",
    "\n",
    "The Forward Pass is simply evaluating the function at the given input values, but we will do this step by step, following the computational graph we just built. It will be useful to keep track of the intermediate values in a table for reference later. (In reality, the computer will do this for us, but we are doing it by hand here to illustrate the process.)\n",
    "\n",
    "| Node | Definition                | Value                         |\n",
    "|------|----------------------------|-------------------------------|\n",
    "| $V0$   | $x_1$                    | 2                             |\n",
    "| $V1$   | $x_2$                    | 5                             |\n",
    "| $V2$   | $\\ln(V0)$                | $\\ln(2) \\approx 0.6931$     |\n",
    "| $V3$   | $V0 \\cdot V1$            | $2 \\cdot 5 = 10$            |\n",
    "| $V4$   | $-\\sin(V1)$              | $-\\sin(5) \\approx 0.9589$   |\n",
    "| $V5$   | $V2 + V3$                | $0.6931 + 10 = 10.6931$     |\n",
    "| $V6$   | $V5 + V4$                | $10.6931 + 0.9589 \\approx 11.6520$ |\n",
    "\n",
    "If we pass in our initial points (x1, x2) through this forward pass, we can look at the final node (V6) to get the answer: \n",
    "$$\n",
    "f(2, 5) \\approx 11.6520\n",
    "$$\n",
    "\n",
    "\n"
   ]
  },
  {
   "cell_type": "markdown",
   "id": "2",
   "metadata": {},
   "source": [
    "Great, this matches what we would expect. At this point, we have just evaluated the function forward, and we don't yet have any derivatives. From here, things get interesting and bifurcate into two main types of Automatic Differentiation: Forward Mode AD and Backward Mode AD. Each of these has important but different uses for reasons that will become clear as we work through the example. Let's start with Forward Mode AD. In both cases, we will start with the initial work we already did with the forward pass above.\n",
    "\n",
    "### Computing Forward Mode AD (tangent propagation)\n",
    "\n",
    "Forward Mode AD allows us to compute *directional derivatives* of the function, as well as that same directional derivative at *any intermediate node* in the computational graph. This is useful for computing derivatives of functions that have a small number of inputs (e.g., 1-10), but potentially a large number of outputs that we might be interested in. For example, if we were computing a trajectory of a dynamical system, we might want to know how the final state of the system changes with respect to some initial condition. In this case, the initial condition is the input, and the final state is the output. There might be many intermediate states along the way that we also want to know how they change with respect to the initial condition, such as the state or total energy at each time step. Forward Mode AD allows us to compute all of these derivatives in only a single pass through the computational graph.\n",
    "\n",
    "To see how this works, we will introduce a new variable $\\dot{V}$ to represent the derivative of each node with respect to some input direction. We will use the notation $\\dot{V} = \\frac{dV}{dx}$, where $x$ is some input variable.\n",
    "\n",
    "**Case A: derivative wrt $x_1$ ($\\dot{x}_1 = 1, \\dot{x}_2 = 0$)**\n",
    "\n",
    "| Node | Definition                        | Value                         |\n",
    "|------|-----------------------------|-------------------------------|\n",
    "| $\\dot{V_0}$   | $\\dot{x_1}$                 | 1                             |\n",
    "| $\\dot{V_1}$   | $\\dot{x_2}$                 | 0                             |\n",
    "| $\\dot{V_2}$   | $d(\\ln V_0)/dV_0 = 1/V_0 \\dot{V_0}$   | $(1/2)\\cdot 1 = 0.5$        |\n",
    "| $\\dot{V_3}$   | $d(V_0 \\cdot V_1)/dV_0 = \\dot{V_0} V_1 + V_0 \\dot{V_1}$  | $5\\cdot1+2\\cdot0=5$ |\n",
    "| $\\dot{V_4}$   | $-\\cos(V_1)\\dot{V_1}$      | $-\\cos(5)\\cdot 0 = 0$       |\n",
    "| $\\dot{V_5}$   | $\\dot{V_3} + \\dot{V_2}$    | $0.5 + 5 = 5.5$             |\n",
    "| $\\dot{V_6}$   | $\\dot{V_5} + \\dot{V_4}$    | $5.5 + 0 = 5.5$             |\n",
    "\n",
    "$$\n",
    "\\frac{\\partial f}{\\partial x_1} = 5.5\n",
    "$$\n"
   ]
  },
  {
   "cell_type": "markdown",
   "id": "3",
   "metadata": {},
   "source": [
    "\n",
    "**Case B: derivative wrt $x_2$ ($\\dot{x}_1 = 0, \\dot{x}_2 = 1$)**\n",
    "\n",
    "**Exercise:** Fill in a similar table as above to compute the derivative of the function with respect to $x_2$ using Forward Mode AD.\n",
    "\n",
    "You can check your answer using the known analytical derivative of the function that you can compute by hand:\n",
    "$$\n",
    "\\frac{\\partial f}{\\partial x_2} \\approx 1.7163\n",
    "$$\n",
    "\n",
    "OK, great, we see that with some bookkeeping, we have correctly computed the derivatives of the function with respect to each input variable. Note that we had to do two passes through the computational graph to get both derivatives, since they were different directional derivatives. If we had a third input variable, we would need a third pass, and so on. This is why Forward Mode AD is best suited for functions with a small number of inputs.\n",
    "\n",
    "On the flip side, if we were interested in the derivative of some intermediate node in the computational graph with respect to an input variable, we would have that information available as well. For example, if we wanted to know how $V3$ changes with respect to $x_1$, we can see from the table above that $\\frac{\\partial V3}{\\partial x_1} = 5$. We got this in the process of computing the final function, so this derivative comes \"along for the ride\" without additional cost on our part. This is a powerful feature of Forward Mode AD that we will see is not available in Backward Mode AD: we can get a specific directional derivatives of any intermediate node from the computational graph via the same Forward Mode pass, but the cost of this scales with the number of input variables or number of directional derivatives we want to compute.\n",
    "\n"
   ]
  },
  {
   "cell_type": "markdown",
   "id": "4",
   "metadata": {},
   "source": [
    "\n",
    "### Computing Reverse Mode AD (backpropagation)\n",
    "\n",
    "While Forward Mode AD efficiently found directional derivatives, if we wanted to compute the full gradient of the output with respect to all of the input variables, we would need to do a separate pass for each input variable. This means that the cost of computing the full gradient scales with the number of input variables. If we have a function with a large number of input variables (e.g., 1000s or more), this can be very expensive. To address this, we can use Reverse Mode AD, which will allow us to compute the full gradient of every input variable to a function using a single \"backward pass\" through the computational graph. This is particularly useful for functions that have a small number of outputs (e.g., 1-10), but a very large number of inputs, such as a Neural Network in Machine Learning or mesh coordinates in a Finite Element or Computational Fluid Dynamics simulation.\n",
    "\n",
    "To see how this works, we will introduce a new variable $\\bar{V}$ to represent the *adjoint* of each node with respect to the output. We will use the notation $\\bar{V} = \\frac{\\partial f}{\\partial V}$, where $f$ is the final output of the function. The adjoint represents how much a small change in that intermediate node would affect the final output of the function.\n",
    "\n",
    "Similarly to Forward Mode AD, we will have to pick a specific output that we wish to compute the gradient with respect to. In this case, since we are computing the gradient of the output with respect to all input variables, we can set the final output node with a value of 1, i.e., $\\bar{V6} = 1$. From there, we will propagate each adjoint backward through the computational graph using the chain rule.\n",
    "\n",
    "\n",
    "\n",
    "\n",
    "\n",
    "| Node | Equation for the adjoint        | Value                         |\n",
    "|------|-----------------------------|-------------------------------|\n",
    "| $\\bar{V_6}$   | $\\frac{\\partial f}{\\partial V_6}$ | 1                             |\n",
    "| $\\bar{V_5}$   | $\\frac{\\partial f}{\\partial V_6} \\frac{\\partial V_6}{\\partial V_5} = \\bar{V_6}1$ | 1                             |\n",
    "| $\\bar{V_4}$   | $\\frac{\\partial f}{\\partial V_6} \\frac{\\partial V_6}{\\partial V_4} = \\bar{V_6}1$ | 1                             |\n",
    "| $\\bar{V_3}$   | $\\frac{\\partial f}{\\partial V_5} \\frac{\\partial V_5}{\\partial V_3} = \\bar{V_5}1$ | 1                             |\n",
    "| $\\bar{V_2}$   | $\\frac{\\partial f}{\\partial V_5} \\frac{\\partial V_5}{\\partial V_2} = \\bar{V_5}1$ | 1                             |\n",
    "| $\\bar{V_1}$   | from V3: $\\bar{V_3}\\cdot V_1=2$ <br> + from V4: $-\\cos(5)\\cdot \\bar{V_4} \\approx -0.2837$ | 1.7163 |\n",
    "| $\\bar{V_0}$   | from V2: $\\bar{V_2}(1/V_0)\\cdot1=0.5$ <br> + from V3: $\\bar{V_3}\\cdot V_1=5$ | 5.5 |\n",
    "\n",
    "We can now verify the final gradients, which match our analytical solution:\n",
    "\n",
    "$$\n",
    "\\nabla f(2,5) = \\left( \\frac{\\partial f}{\\partial x_1}, \\frac{\\partial f}{\\partial x_2} \\right) = (5.5, \\, 1.7163)\n",
    "$$\n",
    "\n",
    "\n",
    "However, unlike Forward Mode AD, we see that we now have access not only to the gradients of the input variables, but also to the gradients of **all intermediate nodes** in the computational graph, and we received all of them via the same amount of work/computation!\n",
    "\n",
    "\n"
   ]
  },
  {
   "cell_type": "markdown",
   "id": "5",
   "metadata": {},
   "source": [
    "## PyTorch Autograd Example with Simple Function\n",
    "Ok let's use automatic differentiation to compute a simple derivative of our earlier analytical function:\n",
    "\n",
    "$$y = f(x_0,x_1) = \\ln(x_0) + x_0 \\cdot x_1 - \\sin(x_1)$$\n",
    "\n",
    "And as with before, we'll evaluate the derivative of this function at $$x_0 = 2, x_1=5$$\n",
    "\n",
    "We can analytically compute the derivative and code it up so that we can verify accuracy later:"
   ]
  },
  {
   "cell_type": "code",
   "execution_count": null,
   "id": "6",
   "metadata": {},
   "outputs": [],
   "source": [
    "#| code-fold: false\n",
    "import numpy as np\n",
    "def true_grad(x0,x1):\n",
    "    return np.array([\n",
    "        1/x0 + x1,\n",
    "        x0 - np.cos(x1)\n",
    "    ])\n",
    "true_grad(2,5)"
   ]
  },
  {
   "cell_type": "markdown",
   "id": "7",
   "metadata": {},
   "source": [
    "But now let's see how to use [PyTorch](https://pytorch.org/ ) to get this using Automatic Differentiation:"
   ]
  },
  {
   "cell_type": "markdown",
   "id": "8",
   "metadata": {},
   "source": [
    "### Automatic Differentiation using PyTorch"
   ]
  },
  {
   "cell_type": "code",
   "execution_count": null,
   "id": "9",
   "metadata": {},
   "outputs": [],
   "source": [
    "import torch\n",
    "x = torch.tensor([2.0, 5.0], requires_grad=True)\n",
    "print(x)"
   ]
  },
  {
   "cell_type": "code",
   "execution_count": null,
   "id": "10",
   "metadata": {},
   "outputs": [],
   "source": [
    "def f(x):\n",
    "    return torch.log(x[0]) + x[0]*x[1] - torch.sin(x[1])\n",
    "y = f(x)\n",
    "print(y)"
   ]
  },
  {
   "cell_type": "code",
   "execution_count": null,
   "id": "11",
   "metadata": {},
   "outputs": [],
   "source": [
    "x.grad"
   ]
  },
  {
   "cell_type": "code",
   "execution_count": null,
   "id": "12",
   "metadata": {},
   "outputs": [],
   "source": [
    "# Now call the backward AD pass so that we can compute gradients\n",
    "y.backward()\n",
    "# Now we can ask for the gradient:\n",
    "x.grad"
   ]
  },
  {
   "cell_type": "markdown",
   "id": "13",
   "metadata": {},
   "source": [
    "Let's see how well it approximated the true gradient:"
   ]
  },
  {
   "cell_type": "code",
   "execution_count": null,
   "id": "14",
   "metadata": {},
   "outputs": [],
   "source": [
    "true_grad(2,5) - x.grad.numpy()"
   ]
  },
  {
   "cell_type": "markdown",
   "id": "15",
   "metadata": {},
   "source": [
    "### Finite Differences using SciPy\n",
    "\n",
    "Now let's compare this to computing the same gradient, but using Numerical Differentiation (specifically, Central Finite Differences):"
   ]
  },
  {
   "cell_type": "code",
   "execution_count": null,
   "id": "16",
   "metadata": {},
   "outputs": [],
   "source": [
    "from scipy import optimize\n",
    "x_np = np.array([2.0, 5.0])\n",
    "def f_np(x):\n",
    "    return np.log(x[0]) + x[0]*x[1] - np.sin(x[1])\n",
    "#y_np = f_np(x_np)\n",
    "# This computes finite differences opf f_np at x_np:\n",
    "optimize.approx_fprime(x_np, f_np, epsilon=1e-4)"
   ]
  },
  {
   "cell_type": "markdown",
   "id": "17",
   "metadata": {},
   "source": [
    "Let's see how well it approximated the true gradient:"
   ]
  },
  {
   "cell_type": "code",
   "execution_count": null,
   "id": "18",
   "metadata": {},
   "outputs": [],
   "source": [
    "true_grad(2,5) - optimize.approx_fprime(x_np, f_np, epsilon=1e-4)"
   ]
  },
  {
   "cell_type": "code",
   "execution_count": null,
   "id": "19",
   "metadata": {},
   "outputs": [],
   "source": [
    "def numerical_error(e):\n",
    "    return true_grad(2,5) - optimize.approx_fprime(x_np, f_np, epsilon=e)\n",
    "#error = lambda e: true_grad(2,5) - optimize.approx_fprime(x_np, y_np, epsilon=e)\n",
    "epsilons = np.logspace(-13,1,num=21)\n",
    "errors = [np.linalg.norm(numerical_error(e)) for e in epsilons]"
   ]
  },
  {
   "cell_type": "code",
   "execution_count": null,
   "id": "20",
   "metadata": {},
   "outputs": [],
   "source": [
    "import matplotlib.pyplot as plt\n",
    "import seaborn as sns\n",
    "sns.set_context('poster')\n",
    "np.random.seed(1)\n",
    "\n",
    "plt.figure()\n",
    "plt.loglog(epsilons,errors,marker='o')\n",
    "plt.xlabel('$\\epsilon$')\n",
    "plt.ylabel('Error')\n",
    "plt.title('Finite Difference Approximation')\n",
    "plt.show()"
   ]
  },
  {
   "cell_type": "markdown",
   "id": "21",
   "metadata": {},
   "source": [
    "## PyTorch Autograd Example with Optimization\n",
    "\n",
    "This example shows how to use AD and PyTorch to perform gradient based optimization on a simple test function"
   ]
  },
  {
   "cell_type": "code",
   "execution_count": null,
   "id": "22",
   "metadata": {},
   "outputs": [],
   "source": [
    "# Example of the McCormick Function\n",
    "def mccormick(x):\n",
    "    return torch.sin(x[0]+x[1]) + (x[0]-x[1])**2 - 1.5*x[0]+2.5*x[1]+1\n",
    "f = mccormick\n",
    "\n",
    "x = torch.tensor([-4.0, 4.0], requires_grad=True)\n",
    "y = f(x)"
   ]
  },
  {
   "cell_type": "markdown",
   "id": "23",
   "metadata": {},
   "source": [
    "What does this function look like?"
   ]
  },
  {
   "cell_type": "code",
   "execution_count": null,
   "id": "24",
   "metadata": {},
   "outputs": [],
   "source": [
    "X_plot = torch.meshgrid(torch.linspace(-5,4,100),torch.linspace(-5,4,100))\n",
    "x_plot,y_plot = X_plot\n",
    "plt.figure()\n",
    "plt.contour(x_plot,y_plot,f(X_plot))\n",
    "plt.show()"
   ]
  },
  {
   "cell_type": "code",
   "execution_count": null,
   "id": "25",
   "metadata": {},
   "outputs": [],
   "source": [
    "fig = plt.figure()\n",
    "ax = plt.axes(projection='3d')\n",
    "ax.contour3D(x_plot, y_plot, f(X_plot), 50, cmap='binary_r')\n",
    "ax.view_init(40, 90)\n",
    "plt.show()"
   ]
  },
  {
   "cell_type": "markdown",
   "id": "26",
   "metadata": {},
   "source": [
    "Now let's say I want to optimize this. I could compute the analytical derivative. Or, I could compute the backward-mode AD on the inputs:"
   ]
  },
  {
   "cell_type": "code",
   "execution_count": null,
   "id": "27",
   "metadata": {},
   "outputs": [],
   "source": [
    "# Pick a starting point:\n",
    "x = torch.tensor([-4.0, 4.0], requires_grad=True)\n",
    "# Evaluate y\n",
    "y = f(x)\n",
    "# Now call the backward AD pass so that we can compute gradients\n",
    "y.backward()\n",
    "# Now we can get the gradient\n",
    "x.grad"
   ]
  },
  {
   "cell_type": "markdown",
   "id": "28",
   "metadata": {},
   "source": [
    "Now we just stick it in a loop and run SGD on it:"
   ]
  },
  {
   "cell_type": "code",
   "execution_count": null,
   "id": "29",
   "metadata": {},
   "outputs": [],
   "source": [
    "# Take an initial guess at the optimum:\n",
    "x = torch.tensor([-4.0, 4.0], requires_grad=True)\n",
    "# Note that the true answer should be x_opt = [5, 5]\n",
    "# Initialize the optimizer\n",
    "optimizer = torch.optim.AdamW([x], lr=1)\n",
    "num_steps = 50\n",
    "steps = [np.array(x.detach().numpy())]\n",
    "# Take 10 steps\n",
    "for i in range(num_steps):\n",
    "    optimizer.zero_grad()\n",
    "    y = f(x)\n",
    "    y.backward()\n",
    "    optimizer.step()\n",
    "    with torch.no_grad():\n",
    "        steps.append(np.array(x.detach().numpy()))\n",
    "        print(x)\n",
    "steps = np.array(steps)"
   ]
  },
  {
   "cell_type": "code",
   "execution_count": null,
   "id": "30",
   "metadata": {},
   "outputs": [],
   "source": [
    "plt.figure()\n",
    "plt.contour(x_plot,y_plot,f(X_plot))\n",
    "plt.plot(steps[:,0],steps[:,1],marker='+',label = \"Adam\")\n",
    "plt.legend()\n",
    "plt.title(\"Adam optimizer\")\n",
    "plt.show()"
   ]
  },
  {
   "cell_type": "code",
   "execution_count": null,
   "id": "31",
   "metadata": {},
   "outputs": [],
   "source": [
    "# Take an initial guess at the optimum:\n",
    "x = torch.tensor([-4.0, 4.0], requires_grad=True)\n",
    "# Note that the true answer should be x_opt = [5, 5]\n",
    "# Initialize the optimizer\n",
    "# Here using LBFGS, which is much faster convergence on small problems\n",
    "optimizer = torch.optim.LBFGS([x],lr=0.05)\n",
    "num_steps = 5\n",
    "steps = [np.array(x.detach().numpy())]\n",
    "# Take 10 steps\n",
    "for i in range(num_steps):\n",
    "    def closure():\n",
    "        optimizer.zero_grad()\n",
    "        y = f(x)\n",
    "        y.backward()\n",
    "        return y\n",
    "    optimizer.step(closure)\n",
    "    with torch.no_grad():\n",
    "            steps.append(np.array(x.detach().numpy()))\n",
    "            print(x)\n",
    "steps = np.array(steps)"
   ]
  },
  {
   "cell_type": "code",
   "execution_count": null,
   "id": "32",
   "metadata": {},
   "outputs": [],
   "source": [
    "plt.figure()\n",
    "plt.contour(x_plot,y_plot,f(X_plot))\n",
    "plt.scatter([-0.54719],[-1.54719],marker='*',label=\"Optima\")\n",
    "plt.plot(steps[:,0],steps[:,1],marker='+',label = \"LFBGS\")\n",
    "plt.legend()\n",
    "plt.title(\"LFBGS optimizer\")\n",
    "plt.show()"
   ]
  },
  {
   "cell_type": "markdown",
   "id": "33",
   "metadata": {},
   "source": [
    "## Demonstration of AD on Verlet Integration\n",
    "This notebook demonstrates how to use Automatic Differentiation to determine the gradients of the initial conditions of a dynamical system (in this case a damped oscillator). To do this, we will define a numerical routine ([Verlet Integration](https://en.wikipedia.org/wiki/Verlet_integration)) and then use Automatic Differentiation to back propagate the gradient information from the output (Total system energy) to the initial conditions.\n",
    "\n",
    "Below is a typical simulation script that is not current set up for automatic differentiation:"
   ]
  },
  {
   "cell_type": "code",
   "execution_count": null,
   "id": "34",
   "metadata": {},
   "outputs": [],
   "source": [
    "\n",
    "###############################################################################\n",
    "N = 1000\n",
    "t = np.linspace(0,10,N)\n",
    "dt = t[1] - t[0]\n",
    "\n",
    "###############################################################################\n",
    "# functions\n",
    "def integrate_original(F,x0,v0,gamma):\n",
    "    ###########################################################################\n",
    "    # arrays are allocated and filled with zeros\n",
    "    Ef = 0\n",
    "    x = np.zeros(N)\n",
    "    v = np.zeros(N)\n",
    "    E = np.zeros(N)\n",
    "    \n",
    "    ###########################################################################    \n",
    "    # initial conditions\n",
    "    x[0] = x0\n",
    "    v[0] = v0\n",
    "    \n",
    "    ###########################################################################\n",
    "    # Do the Verlet Integration\n",
    "    fac1 = 1.0 - 0.5*gamma*dt\n",
    "    fac2 = 1.0/(1.0 + 0.5*gamma*dt)\n",
    "    \n",
    "    for i in range(N-1):\n",
    "        vn = fac1*fac2*v0 - fac2*dt*x0 + fac2*dt*F[i]\n",
    "        xn = x0 + dt*vn\n",
    "        Ef = 0.5*(x0**2 + ((v0 + vn)/2.0)**2)\n",
    "        v0 = vn\n",
    "        x0 = xn\n",
    "        # For Plotting/Debug\n",
    "\n",
    "        v[i + 1] = vn\n",
    "        x[i + 1] = xn\n",
    "        E[i] = Ef\n",
    "\n",
    "    Ef = 0.5*(x0**2 + v0**2)\n",
    "    \n",
    "    E[-1] = Ef\n",
    "    \n",
    "    ###########################################################################\n",
    "    # return solution\n",
    "    return ( (x0,v0,Ef) , (x,v,E) )"
   ]
  },
  {
   "cell_type": "markdown",
   "id": "35",
   "metadata": {},
   "source": [
    "Now note how we modify the code to include AD via PyTorch (see comments and references to `torch`):"
   ]
  },
  {
   "cell_type": "code",
   "execution_count": null,
   "id": "36",
   "metadata": {},
   "outputs": [],
   "source": [
    "\n",
    "###############################################################################\n",
    "N = 1000\n",
    "t = np.linspace(0,10,N)\n",
    "dt = t[1] - t[0]\n",
    "\n",
    "###############################################################################\n",
    "# functions\n",
    "def integrate(F,x0,v0,gamma):\n",
    "    ###########################################################################\n",
    "    # arrays are allocated and filled with zeros\n",
    "    #x = torch.tensor([0.0],requires_grad=True)\n",
    "    #v = torch.zeros(N)\n",
    "    Ef = torch.tensor([0.0],requires_grad=True)\n",
    "    x = np.zeros(N)\n",
    "    v = np.zeros(N)\n",
    "    E = np.zeros(N)\n",
    "    \n",
    "    ###########################################################################    \n",
    "    # initial conditions\n",
    "    with torch.no_grad():\n",
    "        x[0] = x0\n",
    "        v[0] = v0\n",
    "    \n",
    "    ###########################################################################\n",
    "    # Do the Verlet Integration\n",
    "    fac1 = 1.0 - 0.5*gamma*dt\n",
    "    fac2 = 1.0/(1.0 + 0.5*gamma*dt)\n",
    "    \n",
    "    for i in range(N-1):\n",
    "        vn = fac1*fac2*v0 - fac2*dt*x0 + fac2*dt*F[i]\n",
    "        xn = x0 + dt*vn\n",
    "        Ef = 0.5*(x0**2 + ((v0 + vn)/2.0)**2)\n",
    "        v0 = vn\n",
    "        x0 = xn\n",
    "        # For Plotting/Debug\n",
    "        with torch.no_grad():\n",
    "            v[i + 1] = vn\n",
    "            x[i + 1] = xn\n",
    "            E[i] = Ef\n",
    "    \n",
    "    Ef = 0.5*(x0**2 + v0**2)\n",
    "    with torch.no_grad():\n",
    "        E[-1] = Ef\n",
    "    \n",
    "    ###########################################################################\n",
    "    # return solution\n",
    "    return ( (x0,v0,Ef) , (x,v,E) )"
   ]
  },
  {
   "cell_type": "code",
   "execution_count": null,
   "id": "37",
   "metadata": {},
   "outputs": [],
   "source": [
    "###############################################################################\n",
    "# Do the actual numerical integration\n",
    "F = np.zeros(N)\n",
    "\n",
    "x_initial = torch.tensor([1.0], requires_grad = True)\n",
    "v_initial = torch.tensor([1.0], requires_grad = True)\n",
    "#gamma = torch.tensor([0.05], requires_grad = True)\n",
    "gamma = torch.tensor([.05], requires_grad = True)\n",
    "((xf,vf,Ef),(x1,v1,E1)) = integrate(F,x_initial,v_initial,gamma) # x0 = 0.0, v0 = 1.0, gamma = 0.0"
   ]
  },
  {
   "cell_type": "code",
   "execution_count": null,
   "id": "38",
   "metadata": {},
   "outputs": [],
   "source": [
    "#((),(x2,v2,E2)) = integrate(F,0.0,1.0,0.05) # x0 = 0.0, v0 = 1.0, gamma = 0.01\n",
    "#((),(x2,v2,E2)) = integrate(F,0.0,1.0,0.05) # x0 = 0.0, v0 = 1.0, gamma = 0.01\n",
    "\n",
    "#((),(x3,v3,E3)) = integrate(F,0.0,1.0,0.4) # x0 = 0.0, v0 = 1.0, gamma = 0.5\n",
    "\n",
    "###############################################################################\n",
    "def plot_solution(x1,E1,gamma):\n",
    "    plt.rcParams[\"axes.grid\"] = True\n",
    "    plt.rcParams['font.size'] = 14\n",
    "    plt.rcParams['axes.labelsize'] = 18\n",
    "    plt.figure()\n",
    "    plt.subplot(211)\n",
    "    plt.plot(t,x1)\n",
    "    #plt.plot(t,x2)\n",
    "    #plt.plot(t,x3)\n",
    "    plt.ylabel(\"x(t)\")\n",
    "\n",
    "    plt.subplot(212)\n",
    "    plt.plot(t,E1,label=fr\"$\\gamma = {float(gamma):.2f}$\")\n",
    "    #plt.plot(t,E2,label=r\"$\\gamma = 0.01$\")\n",
    "    #plt.plot(t,E3,label=r\"$\\gamma = 0.5$\")\n",
    "    plt.ylim(0,1.0)\n",
    "    plt.ylabel(\"E(t)\")\n",
    "\n",
    "    plt.xlabel(\"Time\")\n",
    "    plt.legend(loc=\"center right\")\n",
    "\n",
    "    plt.tight_layout()\n",
    "\n",
    "plot_solution(x1,E1,gamma)\n"
   ]
  },
  {
   "cell_type": "code",
   "execution_count": null,
   "id": "39",
   "metadata": {},
   "outputs": [],
   "source": [
    "print(Ef)\n",
    "Ef.backward(retain_graph=True)"
   ]
  },
  {
   "cell_type": "markdown",
   "id": "40",
   "metadata": {},
   "source": [
    "Now let's print the gradient of the system Energy with respect to some of the initial conditions:"
   ]
  },
  {
   "cell_type": "code",
   "execution_count": null,
   "id": "41",
   "metadata": {},
   "outputs": [],
   "source": [
    "print(gamma.grad)\n",
    "print(v_initial.grad)\n",
    "print(x_initial.grad)"
   ]
  },
  {
   "cell_type": "code",
   "execution_count": null,
   "id": "42",
   "metadata": {},
   "outputs": [],
   "source": [
    "print(vf)\n",
    "vf.backward()"
   ]
  },
  {
   "cell_type": "code",
   "execution_count": null,
   "id": "43",
   "metadata": {},
   "outputs": [],
   "source": [
    "print(gamma.grad)\n",
    "print(v_initial.grad)\n",
    "print(x_initial.grad)"
   ]
  },
  {
   "cell_type": "markdown",
   "id": "44",
   "metadata": {},
   "source": [
    "### Optimizing the Damping Coefficient via SGD and AD\n",
    "\n",
    "First let's just get a visual intuition for how $\\gamma$ affects the final energy:"
   ]
  },
  {
   "cell_type": "code",
   "execution_count": null,
   "id": "45",
   "metadata": {},
   "outputs": [],
   "source": [
    "num_gammas = 30\n",
    "gamma_plot = np.logspace(-0.5,1.0,num_gammas)\n",
    "Efs = np.zeros(num_gammas)\n",
    "for i,g in enumerate(gamma_plot):\n",
    "    ((xf,vf,Ef),(x1,v1,E1)) = integrate(F,x_initial,v_initial,g)\n",
    "    Efs[i] = Ef"
   ]
  },
  {
   "cell_type": "code",
   "execution_count": null,
   "id": "46",
   "metadata": {},
   "outputs": [],
   "source": [
    "plt.figure()\n",
    "plt.semilogx(gamma_plot,Efs)\n",
    "plt.xlabel(r'$\\gamma$')\n",
    "plt.ylabel('E Final')\n",
    "plt.show()"
   ]
  },
  {
   "cell_type": "markdown",
   "id": "47",
   "metadata": {},
   "source": [
    "We can see that there is a pretty flat plateau from around $\\gamma=1$ until around $\\gamma=3$.\n",
    "\n",
    "Now let's use our backward mode AD to actually optimize $\\gamma$ directly by calling backward on the output of the final energy of the Verlet integration of the ODE:"
   ]
  },
  {
   "cell_type": "code",
   "execution_count": null,
   "id": "48",
   "metadata": {},
   "outputs": [],
   "source": [
    "# This part is just a helper library for plotting\n",
    "def plot_optimization(initial_gamma, num_steps, optimizer, opt_kwargs={}):\n",
    "    # Take an initial guess at the optimum:\n",
    "    gamma = torch.tensor([initial_gamma], requires_grad=True)\n",
    "\n",
    "    # Initialize the optimizer\n",
    "    optimizer = optimizer([gamma], **opt_kwargs)\n",
    "\n",
    "    steps = [ ] # Here is where we'll keep track of the steps\n",
    "    # Take num_steps of the optimizer\n",
    "    for i in range(num_steps):\n",
    "        # This function runs an actual optimization step. We wrap it in closure so that optimizers\n",
    "        # that take multiple function calls per step can do so -- e.g., LBFGS.\n",
    "        def closure():\n",
    "            # Get rid of the existing gradients on the tape\n",
    "            optimizer.zero_grad()\n",
    "            # Run the numerical integration -- this is the forward pass through the solver\n",
    "            ((xf,vf,Ef),(x1,v1,E1)) = integrate(F,x_initial,v_initial,gamma) # x0 = 0.0, v0 = 1.0, gamma = 0.0\n",
    "            # Compute the backward mode AD pass\n",
    "            Ef.backward()\n",
    "            return Ef\n",
    "        # Now ask the optimizer to take a step\n",
    "        optimizer.step(closure)\n",
    "        \n",
    "        # The below part is just for printing/plotting. We call torch.no_grad() here to signify that\n",
    "        # we do not need to track this as part of the gradient operations. That is, these parts will not\n",
    "        # be added to the computational graph or used for backward mode AD.\n",
    "        with torch.no_grad():\n",
    "            #print(gamma)\n",
    "            # Run again just to plot the solution for this gamma\n",
    "            ((xf,vf,Ef),(x1,v1,E1)) = integrate(F,x_initial,v_initial,gamma)\n",
    "            #print(Ef)\n",
    "            if num_steps>10 and i%3==0:\n",
    "                plot_solution(x1,E1,gamma)\n",
    "            # Add it to steps so that we can see/plot it later.\n",
    "            steps.append(np.array(gamma.detach().numpy()))\n",
    "            \n",
    "    steps = np.array(steps)\n",
    "    return steps"
   ]
  },
  {
   "cell_type": "markdown",
   "id": "49",
   "metadata": {},
   "source": [
    "#### ADAM Example"
   ]
  },
  {
   "cell_type": "code",
   "execution_count": null,
   "id": "50",
   "metadata": {},
   "outputs": [],
   "source": [
    "steps_Adam = plot_optimization(initial_gamma=0.05, \n",
    "                               num_steps=20,\n",
    "                               optimizer=torch.optim.AdamW,\n",
    "                               opt_kwargs={'lr':0.5})"
   ]
  },
  {
   "cell_type": "markdown",
   "id": "51",
   "metadata": {},
   "source": [
    "#### SGD Example"
   ]
  },
  {
   "cell_type": "code",
   "execution_count": null,
   "id": "52",
   "metadata": {},
   "outputs": [],
   "source": [
    "steps_SGD = plot_optimization(initial_gamma=0.05, \n",
    "                               num_steps=20,\n",
    "                               optimizer=torch.optim.SGD,\n",
    "                               opt_kwargs={'lr':0.05,'momentum':0.9})"
   ]
  },
  {
   "cell_type": "markdown",
   "id": "53",
   "metadata": {},
   "source": [
    "#### LBFGS Example\n",
    "(Warning: Per-run solves of LBFGS take a while, so don't set num_steps too high here)"
   ]
  },
  {
   "cell_type": "code",
   "execution_count": null,
   "id": "54",
   "metadata": {},
   "outputs": [],
   "source": [
    "steps_LBFGS = plot_optimization(initial_gamma=0.05,\n",
    "                                num_steps=5,\n",
    "                                optimizer=torch.optim.LBFGS,\n",
    "                                opt_kwargs={'lr':0.3})"
   ]
  },
  {
   "cell_type": "markdown",
   "id": "55",
   "metadata": {},
   "source": [
    "### Compare the steps taken"
   ]
  },
  {
   "cell_type": "code",
   "execution_count": null,
   "id": "56",
   "metadata": {},
   "outputs": [],
   "source": [
    "plt.figure()\n",
    "plt.semilogx(gamma_plot,Efs)\n",
    "steps_Adam = steps_Adam.flatten()\n",
    "plt.plot(steps_Adam,[0.0]*len(steps_Adam),'|', color = 'r', label = 'Adam Steps')\n",
    "plt.plot(steps_SGD,[0.005]*len(steps_SGD),'|', color = 'g', label = 'SGD Steps')\n",
    "plt.plot(steps_LBFGS,[0.01]*len(steps_LBFGS),'|', color = 'k', label = 'LBFGS Steps')\n",
    "plt.xlabel(r'$\\gamma$')\n",
    "plt.ylabel('E Final')\n",
    "plt.title(\"Comparison of Optimizers\")\n",
    "plt.legend()\n",
    "plt.show()"
   ]
  }
 ],
 "metadata": {
  "kernelspec": {
   "display_name": "ml4me-student",
   "language": "python",
   "name": "python3"
  },
  "language_info": {
   "codemirror_mode": {
    "name": "ipython",
    "version": 3
   },
   "file_extension": ".py",
   "mimetype": "text/x-python",
   "name": "python",
   "nbconvert_exporter": "python",
   "pygments_lexer": "ipython3",
   "version": "3.11.8"
  }
 },
 "nbformat": 4,
 "nbformat_minor": 5
}
